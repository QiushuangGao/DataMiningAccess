{
 "cells": [
  {
   "cell_type": "markdown",
   "id": "c00dec0d",
   "metadata": {},
   "source": [
    "# 智慧海洋建设-地理数据分析常用工具"
   ]
  },
  {
   "cell_type": "markdown",
   "id": "1e512cd4",
   "metadata": {},
   "source": [
    "## 学习目标"
   ]
  },
  {
   "cell_type": "markdown",
   "id": "50557c89",
   "metadata": {},
   "source": [
    "1.了解和学习shapely和geopandas的基本功能，掌握用python中的这两个库实现几何对象之间的空间操作方法。\n",
    "\n",
    "2.掌握folium和kepler.gl的数据可视化工具的使用。\n",
    "\n",
    "3.学习与掌握geohash编码方法。"
   ]
  },
  {
   "cell_type": "markdown",
   "id": "75aa6cfc",
   "metadata": {},
   "source": [
    "## 学习内容"
   ]
  },
  {
   "cell_type": "markdown",
   "id": "1d8193a1",
   "metadata": {},
   "source": [
    "### 一、shapely"
   ]
  },
  {
   "cell_type": "code",
   "execution_count": 2,
   "id": "e954a115",
   "metadata": {},
   "outputs": [],
   "source": [
    "from shapely import geometry as geo\n",
    "from shapely import wkt \n",
    "from shapely import ops\n",
    "import numpy as np "
   ]
  },
  {
   "cell_type": "markdown",
   "id": "a5284f48",
   "metadata": {},
   "source": [
    "#### 1. Point对象"
   ]
  },
  {
   "cell_type": "code",
   "execution_count": 6,
   "id": "10d2f624",
   "metadata": {},
   "outputs": [
    {
     "name": "stdout",
     "output_type": "stream",
     "text": [
      "POINT (0 0)\n",
      "POINT (0 1)\n",
      "POINT (1 1)\n"
     ]
    }
   ],
   "source": [
    "# 创建Point对象\n",
    "point1 = geo.Point(0,0)\n",
    "point2 = geo.Point([0,1])\n",
    "point3 = wkt.loads(\"POINT(1 1)\")\n",
    "print(point1)\n",
    "print(point2)\n",
    "print(point3)"
   ]
  },
  {
   "cell_type": "code",
   "execution_count": 12,
   "id": "41cd0e5e",
   "metadata": {},
   "outputs": [
    {
     "data": {
      "image/svg+xml": [
       "<svg xmlns=\"http://www.w3.org/2000/svg\" xmlns:xlink=\"http://www.w3.org/1999/xlink\" width=\"100.0\" height=\"100.0\" viewBox=\"-0.04 -0.04 1.08 1.08\" preserveAspectRatio=\"xMinYMin meet\"><g transform=\"matrix(1,0,0,-1,0,1.0)\"><g><circle cx=\"0.0\" cy=\"0.0\" r=\"0.0324\" stroke=\"#555555\" stroke-width=\"0.0108\" fill=\"#66cc99\" opacity=\"0.6\" /><circle cx=\"0.0\" cy=\"1.0\" r=\"0.0324\" stroke=\"#555555\" stroke-width=\"0.0108\" fill=\"#66cc99\" opacity=\"0.6\" /><circle cx=\"1.0\" cy=\"1.0\" r=\"0.0324\" stroke=\"#555555\" stroke-width=\"0.0108\" fill=\"#66cc99\" opacity=\"0.6\" /></g></g></svg>"
      ],
      "text/plain": [
       "<shapely.geometry.collection.GeometryCollection at 0x1123f4640>"
      ]
     },
     "execution_count": 12,
     "metadata": {},
     "output_type": "execute_result"
    }
   ],
   "source": [
    "# 批量可视化\n",
    "geo.GeometryCollection([point1, point2, point3])"
   ]
  },
  {
   "cell_type": "code",
   "execution_count": 14,
   "id": "5fbf064d",
   "metadata": {},
   "outputs": [
    {
     "name": "stdout",
     "output_type": "stream",
     "text": [
      "1.0 1.0\n",
      "[(1.0, 1.0)]\n",
      "[1. 1.]\n"
     ]
    }
   ],
   "source": [
    "# 对象属性\n",
    "print(point3.x, point3.y)\n",
    "print(list(point3.coords))\n",
    "print(np.array(point3))  # 可以和array互转"
   ]
  },
  {
   "cell_type": "code",
   "execution_count": 17,
   "id": "03bf610c",
   "metadata": {},
   "outputs": [
    {
     "data": {
      "text/plain": [
       "1.4142135623730951"
      ]
     },
     "execution_count": 17,
     "metadata": {},
     "output_type": "execute_result"
    }
   ],
   "source": [
    "# 计算距离\n",
    "point1.distance(point3)"
   ]
  },
  {
   "cell_type": "markdown",
   "id": "017b26ed",
   "metadata": {},
   "source": [
    "#### 2.LineString对象\n",
    "构造函数传入参数是两个或多个点元组"
   ]
  },
  {
   "cell_type": "code",
   "execution_count": 20,
   "id": "2d93b8c4",
   "metadata": {},
   "outputs": [
    {
     "data": {
      "image/svg+xml": [
       "<svg xmlns=\"http://www.w3.org/2000/svg\" xmlns:xlink=\"http://www.w3.org/1999/xlink\" width=\"100.0\" height=\"100.0\" viewBox=\"-0.04 -0.04 1.08 1.08\" preserveAspectRatio=\"xMinYMin meet\"><g transform=\"matrix(1,0,0,-1,0,1.0)\"><g><polyline fill=\"none\" stroke=\"#66cc99\" stroke-width=\"0.0216\" points=\"0.0,0.0 1.0,1.0 1.0,0.0\" opacity=\"0.8\" /><circle cx=\"0.0\" cy=\"1.0\" r=\"0.0324\" stroke=\"#555555\" stroke-width=\"0.0108\" fill=\"#66cc99\" opacity=\"0.6\" /></g></g></svg>"
      ],
      "text/plain": [
       "<shapely.geometry.collection.GeometryCollection at 0x1123f46a0>"
      ]
     },
     "execution_count": 20,
     "metadata": {},
     "output_type": "execute_result"
    }
   ],
   "source": [
    "arr = [(0,0), (1,1), (1,0)]\n",
    "line = geo.LineString(arr)\n",
    "point = geo.Point(0, 1)\n",
    "geo.GeometryCollection([line, point]) # 支持多种对象"
   ]
  },
  {
   "cell_type": "code",
   "execution_count": 21,
   "id": "38464c08",
   "metadata": {},
   "outputs": [
    {
     "data": {
      "text/plain": [
       "0.7071067811865476"
      ]
     },
     "execution_count": 21,
     "metadata": {},
     "output_type": "execute_result"
    }
   ],
   "source": [
    "# 两个几何对象之间的距离：线线距离或点线距离\n",
    "point.distance(line)"
   ]
  },
  {
   "cell_type": "code",
   "execution_count": 22,
   "id": "c14d07c3",
   "metadata": {},
   "outputs": [
    {
     "data": {
      "text/plain": [
       "1.4142135623730951"
      ]
     },
     "execution_count": 22,
     "metadata": {},
     "output_type": "execute_result"
    }
   ],
   "source": [
    "# 两个几何对象之间的hausdorff_distance距离\n",
    "point.hausdorff_distance(line) # 求的是点与线的最长距离"
   ]
  },
  {
   "cell_type": "code",
   "execution_count": 26,
   "id": "c993de65",
   "metadata": {},
   "outputs": [
    {
     "name": "stdout",
     "output_type": "stream",
     "text": [
      "该几何对象的面积: 0.0\n",
      "该几何对象的坐标范围: (0.0, 0.0, 1.0, 1.0)\n",
      "该几何对象的长度: 2.414213562373095\n",
      "该几何对象的几何类型: LineString\n",
      "该几何对象的坐标系: [(0.0, 0.0), (1.0, 1.0), (1.0, 0.0)]\n"
     ]
    }
   ],
   "source": [
    "# 对象属性\n",
    "print('该几何对象的面积:', line.area)\n",
    "print('该几何对象的坐标范围:', line.bounds)\n",
    "print('该几何对象的长度:', line.length)\n",
    "print('该几何对象的几何类型:', line.geom_type)  \n",
    "print('该几何对象的坐标系:', list(line.coords))"
   ]
  },
  {
   "cell_type": "code",
   "execution_count": 27,
   "id": "3aa80784",
   "metadata": {},
   "outputs": [
    {
     "data": {
      "image/svg+xml": [
       "<svg xmlns=\"http://www.w3.org/2000/svg\" xmlns:xlink=\"http://www.w3.org/1999/xlink\" width=\"100.0\" height=\"100.0\" viewBox=\"-0.04 -0.04 1.08 1.08\" preserveAspectRatio=\"xMinYMin meet\"><g transform=\"matrix(1,0,0,-1,0,1.0)\"><g><polyline fill=\"none\" stroke=\"#66cc99\" stroke-width=\"0.0216\" points=\"0.0,0.0 1.0,1.0 1.0,0.0\" opacity=\"0.8\" /><circle cx=\"0.7071067811865476\" cy=\"0.5\" r=\"0.0324\" stroke=\"#555555\" stroke-width=\"0.0108\" fill=\"#66cc99\" opacity=\"0.6\" /></g></g></svg>"
      ],
      "text/plain": [
       "<shapely.geometry.collection.GeometryCollection at 0x1123f4ee0>"
      ]
     },
     "execution_count": 27,
     "metadata": {},
     "output_type": "execute_result"
    }
   ],
   "source": [
    "# 获取几何中心\n",
    "center = line.centroid\n",
    "geo.GeometryCollection([line,center])"
   ]
  },
  {
   "cell_type": "code",
   "execution_count": 28,
   "id": "98bcf1af",
   "metadata": {},
   "outputs": [
    {
     "data": {
      "image/svg+xml": [
       "<svg xmlns=\"http://www.w3.org/2000/svg\" xmlns:xlink=\"http://www.w3.org/1999/xlink\" width=\"100.0\" height=\"100.0\" viewBox=\"-0.04 -0.04 1.08 1.08\" preserveAspectRatio=\"xMinYMin meet\"><g transform=\"matrix(1,0,0,-1,0,1.0)\"><g><polyline fill=\"none\" stroke=\"#66cc99\" stroke-width=\"0.0216\" points=\"0.0,0.0 1.0,1.0 1.0,0.0\" opacity=\"0.8\" /><path fill-rule=\"evenodd\" fill=\"#66cc99\" stroke=\"#555555\" stroke-width=\"0.0216\" opacity=\"0.6\" d=\"M 0.0,0.0 L 1.0,0.0 L 1.0,1.0 L 0.0,1.0 L 0.0,0.0 z\" /></g></g></svg>"
      ],
      "text/plain": [
       "<shapely.geometry.collection.GeometryCollection at 0x1123f4940>"
      ]
     },
     "execution_count": 28,
     "metadata": {},
     "output_type": "execute_result"
    }
   ],
   "source": [
    "# 获取几何对象的最小外接矩形\n",
    "bbox = line.envelope \n",
    "geo.GeometryCollection([line,bbox])"
   ]
  },
  {
   "cell_type": "code",
   "execution_count": 29,
   "id": "bacce46d",
   "metadata": {},
   "outputs": [
    {
     "data": {
      "image/svg+xml": [
       "<svg xmlns=\"http://www.w3.org/2000/svg\" xmlns:xlink=\"http://www.w3.org/1999/xlink\" width=\"100.0\" height=\"100.0\" viewBox=\"-0.06 -0.5599999999999998 1.6199999999999997 1.6199999999999999\" preserveAspectRatio=\"xMinYMin meet\"><g transform=\"matrix(1,0,0,-1,0,0.5000000000000002)\"><g><polyline fill=\"none\" stroke=\"#66cc99\" stroke-width=\"0.0324\" points=\"0.0,0.0 1.0,1.0 1.0,0.0\" opacity=\"0.8\" /><path fill-rule=\"evenodd\" fill=\"#66cc99\" stroke=\"#555555\" stroke-width=\"0.0324\" opacity=\"0.6\" d=\"M 0.4999999999999999,-0.4999999999999999 L 1.4999999999999996,0.4999999999999999 L 0.9999999999999998,0.9999999999999998 L 0.0,0.0 L 0.4999999999999999,-0.4999999999999999 z\" /></g></g></svg>"
      ],
      "text/plain": [
       "<shapely.geometry.collection.GeometryCollection at 0x1123f4e80>"
      ]
     },
     "execution_count": 29,
     "metadata": {},
     "output_type": "execute_result"
    }
   ],
   "source": [
    "#获取几何对象的最小旋转外接矩形\n",
    "rect = line.minimum_rotated_rectangle \n",
    "geo.GeometryCollection([line,rect])"
   ]
  },
  {
   "cell_type": "code",
   "execution_count": 30,
   "id": "22f10e8a",
   "metadata": {},
   "outputs": [
    {
     "data": {
      "image/svg+xml": [
       "<svg xmlns=\"http://www.w3.org/2000/svg\" xmlns:xlink=\"http://www.w3.org/1999/xlink\" width=\"100.0\" height=\"100.0\" viewBox=\"-0.04 -0.04 1.08 1.08\" preserveAspectRatio=\"xMinYMin meet\"><g transform=\"matrix(1,0,0,-1,0,1.0)\"><g><polyline fill=\"none\" stroke=\"#66cc99\" stroke-width=\"0.0216\" points=\"0.0,0.0 1.0,1.0 1.0,0.0\" opacity=\"0.8\" /><circle cx=\"0.8535533905932736\" cy=\"0.8535533905932736\" r=\"0.0324\" stroke=\"#555555\" stroke-width=\"0.0108\" fill=\"#66cc99\" opacity=\"0.6\" /></g></g></svg>"
      ],
      "text/plain": [
       "<shapely.geometry.collection.GeometryCollection at 0x110afeca0>"
      ]
     },
     "execution_count": 30,
     "metadata": {},
     "output_type": "execute_result"
    }
   ],
   "source": [
    "# 插值\n",
    "pt_half = line.interpolate(0.5, normalized=True)\n",
    "geo.GeometryCollection([line,pt_half])"
   ]
  },
  {
   "cell_type": "code",
   "execution_count": 31,
   "id": "4c4ba021",
   "metadata": {},
   "outputs": [
    {
     "data": {
      "image/svg+xml": [
       "<svg xmlns=\"http://www.w3.org/2000/svg\" xmlns:xlink=\"http://www.w3.org/1999/xlink\" width=\"100.0\" height=\"100.0\" viewBox=\"-0.28 -0.38 7.5600000000000005 0.76\" preserveAspectRatio=\"xMinYMin meet\"><g transform=\"matrix(1,0,0,-1,0,0.0)\"><g><polyline fill=\"none\" stroke=\"#66cc99\" stroke-width=\"0.1512\" points=\"0.0,0.0 1.0,-0.1 2.0,0.1 3.0,-0.1 5.0,0.1 7.0,0.0\" opacity=\"0.8\" /><circle cx=\"3.4815374003688935\" cy=\"-0.05184625996311064\" r=\"0.2268\" stroke=\"#555555\" stroke-width=\"0.0756\" fill=\"#66cc99\" opacity=\"0.6\" /></g></g></svg>"
      ],
      "text/plain": [
       "<shapely.geometry.collection.GeometryCollection at 0x11a379ac0>"
      ]
     },
     "execution_count": 31,
     "metadata": {},
     "output_type": "execute_result"
    }
   ],
   "source": [
    "line1 = geo.LineString([(0,0),(1,-0.1),(2,0.1),(3,-0.1),(5,0.1),(7,0)])\n",
    "pt_half1 = line1.interpolate(0.5, normalized=True)\n",
    "geo.GeometryCollection([line1,pt_half1])"
   ]
  },
  {
   "cell_type": "code",
   "execution_count": 32,
   "id": "f3a4f84a",
   "metadata": {},
   "outputs": [
    {
     "name": "stdout",
     "output_type": "stream",
     "text": [
      "0.5\n"
     ]
    }
   ],
   "source": [
    "# project()方法是和interpolate方法互逆的\n",
    "ratio = line.project(pt_half,normalized=True) \n",
    "print(ratio)"
   ]
  },
  {
   "cell_type": "code",
   "execution_count": 35,
   "id": "45f29bf0",
   "metadata": {},
   "outputs": [
    {
     "data": {
      "image/svg+xml": [
       "<svg xmlns=\"http://www.w3.org/2000/svg\" xmlns:xlink=\"http://www.w3.org/1999/xlink\" width=\"100.0\" height=\"100.0\" viewBox=\"-0.28 -0.78 7.5600000000000005 1.36\" preserveAspectRatio=\"xMinYMin meet\"><g transform=\"matrix(1,0,0,-1,0,-0.19999999999999996)\"><polyline fill=\"none\" stroke=\"#66cc99\" stroke-width=\"0.1512\" points=\"0.0,0.0 1.0,-0.2 2.0,0.3 3.0,-0.5 5.0,0.2 7.0,0.0\" opacity=\"0.8\" /></g></svg>"
      ],
      "text/plain": [
       "<shapely.geometry.linestring.LineString at 0x11a3798b0>"
      ]
     },
     "execution_count": 35,
     "metadata": {},
     "output_type": "execute_result"
    }
   ],
   "source": [
    "line1 = geo.LineString([(0,0),(1,-0.2),(2,0.3),(3,-0.5),(5,0.2),(7,0)])\n",
    "line1"
   ]
  },
  {
   "cell_type": "code",
   "execution_count": 36,
   "id": "d9f82a56",
   "metadata": {},
   "outputs": [
    {
     "name": "stdout",
     "output_type": "stream",
     "text": [
      "LINESTRING (0 0, 2 0.3, 3 -0.5, 5 0.2, 7 0)\n"
     ]
    },
    {
     "data": {
      "image/svg+xml": [
       "<svg xmlns=\"http://www.w3.org/2000/svg\" xmlns:xlink=\"http://www.w3.org/1999/xlink\" width=\"100.0\" height=\"100.0\" viewBox=\"-0.28 -0.78 7.5600000000000005 1.36\" preserveAspectRatio=\"xMinYMin meet\"><g transform=\"matrix(1,0,0,-1,0,-0.19999999999999996)\"><polyline fill=\"none\" stroke=\"#66cc99\" stroke-width=\"0.1512\" points=\"0.0,0.0 2.0,0.3 3.0,-0.5 5.0,0.2 7.0,0.0\" opacity=\"0.8\" /></g></svg>"
      ],
      "text/plain": [
       "<shapely.geometry.linestring.LineString at 0x11a379730>"
      ]
     },
     "execution_count": 36,
     "metadata": {},
     "output_type": "execute_result"
    }
   ],
   "source": [
    "# Douglas-Pucker算法，多方向剖面线，轨迹分析时经常用得到\n",
    "line1_simplify = line1.simplify(0.4, preserve_topology=False)\n",
    "print(line1_simplify)\n",
    "line1_simplify"
   ]
  },
  {
   "cell_type": "code",
   "execution_count": 42,
   "id": "f9cb54f7",
   "metadata": {},
   "outputs": [
    {
     "data": {
      "image/svg+xml": [
       "<svg xmlns=\"http://www.w3.org/2000/svg\" xmlns:xlink=\"http://www.w3.org/1999/xlink\" width=\"100.0\" height=\"100.0\" viewBox=\"-0.49599987728107964 -0.995889440027441 7.991999640809404 1.7918780185546874\" preserveAspectRatio=\"xMinYMin meet\"><g transform=\"matrix(1,0,0,-1,0,-0.19990086150019448)\"><g><polyline fill=\"none\" stroke=\"#66cc99\" stroke-width=\"0.15983999281618808\" points=\"0.0,0.0 1.0,-0.2 2.0,0.3 3.0,-0.5 5.0,0.2 7.0,0.0\" opacity=\"0.8\" /><path fill-rule=\"evenodd\" fill=\"#66cc99\" stroke=\"#555555\" stroke-width=\"0.15983999281618808\" opacity=\"0.6\" d=\"M 0.9719342611339035,0.009573928316930685 L 1.9105572809000084,0.4788854381999832 L 1.9279041014659157,0.4865534277748952 L 1.94589926287012,0.4925437878561747 L 1.964380939013393,0.4968026485960806 L 1.983182928688073,0.4992917110983033 L 2.0021361501850032,0.49998859183060196 L 2.0210701618041202,0.49888702391445294 L 2.0398146945951083,0.4959969134815603 L 2.058201183544558,0.4913442505904284 L 2.076064283440034,0.48497087550410256 L 2.093243355779259,0.4769341024308839 L 2.1095839133530023,0.46730620411162793 L 2.124939009510885,0.45617376188860603 L 3.0384597986896895,-0.2746428694544377 L 4.933929915054379,0.3887716712732035 L 4.954874138761231,0.3948426458644497 L 4.976354815591868,0.3985973445298438 L 4.998116584742743,0.3999911316708037 L 5.019900743804199,0.3990074380419979 L 7.019900743804199,0.19900743804199786 L 7.039311056264545,0.19609854883544084 L 7.058342781763454,0.19130112340522748 L 7.076812634380571,0.1846613635807902 L 7.094542739338546,0.17624321387890024 L 7.1113623460343725,0.16612774568301558 L 7.127109472461037,0.1544123764815399 L 7.141632465182797,0.14120993168415577 L 7.154791459840665,0.12664755805145242 L 7.166459728122647,0.11086549920211593 L 7.176524898226665,0.09401574499021641 L 7.184890037062436,0.07626056775982701 L 7.19147458377012,0.05777095957364359 L 7.196215125565442,0.03872498546594707 L 7.1990660084394715,0.019306068578983062 L 7.199999776831679,-0.00029877630216717187 L 7.199007438041998,-0.019900743804199796 L 7.196098548835441,-0.03931105626454481 L 7.1913011234052275,-0.05834278176345296 L 7.1846613635807905,-0.07681263438057033 L 7.176243213878901,-0.09454273933854558 L 7.166127745683016,-0.11136234603437217 L 7.15441237648154,-0.127109472461037 L 7.1412099316841555,-0.14163246518279632 L 7.126647558051452,-0.1547914598406642 L 7.1108654992021165,-0.16645972812264714 L 7.094015744990217,-0.1765248982266654 L 7.076260567759827,-0.18489003706243565 L 7.057770959573643,-0.1914745837701193 L 7.038724985465947,-0.19621512556544207 L 7.019306068578983,-0.19906600843947117 L 6.999701223697833,-0.19999977683167866 L 6.980099256195801,-0.19900743804199786 L 5.024219307959451,-0.003419443218362919 L 3.066070084945621,-0.6887716712732035 L 3.0466723078135987,-0.6944780082254873 L 3.0267974976450494,-0.6981966047135106 L 3.006648792906641,-0.6998894533307963 L 2.9864321315143174,-0.6995392516392582 L 2.966354145962254,-0.6971495790157076 L 2.9466200513525944,-0.6927448600673968 L 2.927431547912213,-0.6863701149905277 L 2.9089847594346683,-0.6780904994232843 L 2.891468228718332,-0.667990638496506 L 2.875060990489115,-0.6561737618886061 L 1.9749860217328192,0.06388621311643061 L 1.0894427190999916,-0.3788854381999832 L 1.0721762915494146,-0.3865223389789382 L 1.0542666798199893,-0.3924970842930219 L 1.0358734817334716,-0.3967564314280941 L 1.017160604491987,-0.3992624240881095 L 0.9982948040527073,-0.3999927306348442 L 0.9794441991164327,-0.39894084309169686 L 0.9607767729723632,-0.39611613513818406 L -0.03922322702763681,-0.19611613513818402 L -0.05825709920743097,-0.19132723379575514 L -0.07672992367528736,-0.18469574660176824 L -0.09446379703330797,-0.17628553840304087 L -0.11128793238673343,-0.16617760410201446 L -0.1270403041151025,-0.15446928863156675 L -0.14156920826754874,-0.14127334947009437 L -0.15473472355477713,-0.1267168707253565 L -0.16641005886756882,-0.1109400392450457 L -0.17648277434447424,-0.09409479454081074 L -0.18485586422914443,-0.07634336552770073 L -0.19144869108879342,-0.0578567081710302 L -0.19619776239675701,-0.038812859086978846 L -0.19905734200023315,-0.019395220952652878 L -0.19999989058443504,0.00020920376195348868 L -0.1990163308912474,0.019811613729969837 L -0.19611613513818404,0.03922322702763677 L -0.19132723379575525,0.05825709920743061 L -0.18469574660176835,0.07672992367528711 L -0.17628553840304106,0.09446379703330765 L -0.16617760410201465,0.11128793238673312 L -0.15446928863156698,0.12704030411510223 L -0.1412733494700947,0.14156920826754843 L -0.12671687072535692,0.1547347235547768 L -0.11094003924504614,0.16641005886756854 L -0.09409479454081121,0.176482774344474 L -0.07634336552770132,0.18485586422914418 L -0.057856708171030884,0.19144869108879323 L -0.038812859086979554,0.1961977623967569 L -0.0193952209526536,0.19905734200023306 L 0.00020920376195267704,0.19999989058443504 L 0.019811613729968938,0.19901633089124748 L 0.039223227027635886,0.19611613513818424 L 0.9719342611339035,0.009573928316930685 z\" /></g></g></svg>"
      ],
      "text/plain": [
       "<shapely.geometry.collection.GeometryCollection at 0x11a379a90>"
      ]
     },
     "execution_count": 42,
     "metadata": {},
     "output_type": "execute_result"
    }
   ],
   "source": [
    " #端点按照半圆扩展， cap_style指定拓展方式，join_style指定连接方式\n",
    "buffer_with_circle = line1.buffer(0.2) \n",
    "geo.GeometryCollection([line1,buffer_with_circle])"
   ]
  },
  {
   "cell_type": "markdown",
   "id": "da89b5c2",
   "metadata": {},
   "source": [
    "#### 3.LinearRing对象\n",
    "LinearRing对象构造函数传入参数是2个或多个点元组\n",
    "\n",
    "元组序列可以通过在第一个和最后一个索引中传递相同的值来显式关闭。否则，将第一个元组复制到最后一个索引，从而隐式关闭序列。 与LineString一样，元组序列中的重复点是允许的，但可能会导致性能上的损失，应该避免在序列中设置重复点。"
   ]
  },
  {
   "cell_type": "code",
   "execution_count": 43,
   "id": "42787c00",
   "metadata": {},
   "outputs": [
    {
     "name": "stdout",
     "output_type": "stream",
     "text": [
      "3.414213562373095\n",
      "0.0\n"
     ]
    },
    {
     "data": {
      "image/svg+xml": [
       "<svg xmlns=\"http://www.w3.org/2000/svg\" xmlns:xlink=\"http://www.w3.org/1999/xlink\" width=\"100.0\" height=\"100.0\" viewBox=\"-0.04 -0.04 1.08 1.08\" preserveAspectRatio=\"xMinYMin meet\"><g transform=\"matrix(1,0,0,-1,0,1.0)\"><g><polyline fill=\"none\" stroke=\"#66cc99\" stroke-width=\"0.0216\" points=\"0.0,0.0 1.0,1.0 1.0,0.0 0.0,0.0\" opacity=\"0.8\" /></g></g></svg>"
      ],
      "text/plain": [
       "<shapely.geometry.collection.GeometryCollection at 0x11a379460>"
      ]
     },
     "execution_count": 43,
     "metadata": {},
     "output_type": "execute_result"
    }
   ],
   "source": [
    "# from shapely.geometry.polygon import LinearRing\n",
    "ring = geo.polygon.LinearRing([(0, 0), (1, 1), (1, 0)])\n",
    "print(ring.length)#相比于刚才的LineString的代码示例，其长度现在是3.41，是因为其序列是闭合的\n",
    "print(ring.area)\n",
    "geo.GeometryCollection([ring])"
   ]
  },
  {
   "cell_type": "markdown",
   "id": "28c2396f",
   "metadata": {},
   "source": [
    "#### 4.Polygon对象\n",
    "Polygon接受两个位置参数，第一个位置参数是和LinearRing一样，是一个有序的point元组。第二个位置参数是可选的序列，其用来指定内部的边界"
   ]
  },
  {
   "cell_type": "code",
   "execution_count": 46,
   "id": "c35f8c0a",
   "metadata": {},
   "outputs": [
    {
     "name": "stdout",
     "output_type": "stream",
     "text": [
      "3.414213562373095\n",
      "0.5\n"
     ]
    },
    {
     "data": {
      "image/svg+xml": [
       "<svg xmlns=\"http://www.w3.org/2000/svg\" xmlns:xlink=\"http://www.w3.org/1999/xlink\" width=\"100.0\" height=\"100.0\" viewBox=\"-0.04 -0.04 1.08 1.08\" preserveAspectRatio=\"xMinYMin meet\"><g transform=\"matrix(1,0,0,-1,0,1.0)\"><g><path fill-rule=\"evenodd\" fill=\"#66cc99\" stroke=\"#555555\" stroke-width=\"0.0216\" opacity=\"0.6\" d=\"M 0.0,0.0 L 1.0,1.0 L 1.0,0.0 L 0.0,0.0 z\" /></g></g></svg>"
      ],
      "text/plain": [
       "<shapely.geometry.collection.GeometryCollection at 0x11a379880>"
      ]
     },
     "execution_count": 46,
     "metadata": {},
     "output_type": "execute_result"
    }
   ],
   "source": [
    "from shapely.geometry import Polygon\n",
    "poly1 = geo.Polygon([(0, 0), (1, 1), (1, 0)])\n",
    "print(poly1.length)\n",
    "print(poly1.area) # 面积由0变成0.5\n",
    "geo.GeometryCollection([poly1])"
   ]
  },
  {
   "cell_type": "code",
   "execution_count": 49,
   "id": "2b0357d8",
   "metadata": {},
   "outputs": [
    {
     "data": {
      "image/svg+xml": [
       "<svg xmlns=\"http://www.w3.org/2000/svg\" xmlns:xlink=\"http://www.w3.org/1999/xlink\" width=\"100.0\" height=\"100.0\" viewBox=\"-0.08 -0.08 2.16 2.16\" preserveAspectRatio=\"xMinYMin meet\"><g transform=\"matrix(1,0,0,-1,0,2.0)\"><path fill-rule=\"evenodd\" fill=\"#66cc99\" stroke=\"#555555\" stroke-width=\"0.0432\" opacity=\"0.6\" d=\"M 0.0,0.0 L 0.0,2.0 L 2.0,2.0 L 2.0,0.0 L 0.0,0.0 z M 1.0,0.0 L 0.5,0.5 L 1.0,1.0 L 1.5,0.5 L 1.0,0.0 z\" /></g></svg>"
      ],
      "text/plain": [
       "<shapely.geometry.polygon.Polygon at 0x11a379670>"
      ]
     },
     "execution_count": 49,
     "metadata": {},
     "output_type": "execute_result"
    }
   ],
   "source": [
    "ext = [(0, 0), (0, 2), (2, 2), (2, 0), (0, 0)]\n",
    "inner = [(1, 0), (0.5, 0.5), (1, 1), (1.5, 0.5), (1, 0)]\n",
    "polygon2 = Polygon(ext, [inner])\n",
    "polygon2"
   ]
  },
  {
   "cell_type": "code",
   "execution_count": 50,
   "id": "a3fed136",
   "metadata": {},
   "outputs": [
    {
     "name": "stdout",
     "output_type": "stream",
     "text": [
      "3.5\n",
      "10.82842712474619\n",
      "[[0. 0.]\n",
      " [0. 2.]\n",
      " [2. 2.]\n",
      " [2. 0.]\n",
      " [0. 0.]]\n"
     ]
    }
   ],
   "source": [
    "print(polygon2.area)#其面积是ext的面积减去int的面积\n",
    "print(polygon2.length)#其长度是ext的长度加上int的长度\n",
    "print(np.array(polygon2.exterior))  #外围坐标点"
   ]
  },
  {
   "cell_type": "markdown",
   "id": "06103748",
   "metadata": {},
   "source": [
    "#### 5. 几何对象关系\n",
    "一个几何对象特征分别有interior、boundary和exterior。下面的叙述直接用内部、边界和外部等名词概述\n",
    "\n",
    "1.object.contains(other)\\\n",
    "如果object的外部没有其他点，或者至少有一个点在该object的内部，则返回True\\\n",
    "a.contains(b)与 b.within(a)的表达是等价的"
   ]
  },
  {
   "cell_type": "code",
   "execution_count": 52,
   "id": "81c1d9db",
   "metadata": {},
   "outputs": [
    {
     "name": "stdout",
     "output_type": "stream",
     "text": [
      "True\n"
     ]
    },
    {
     "data": {
      "image/svg+xml": [
       "<svg xmlns=\"http://www.w3.org/2000/svg\" xmlns:xlink=\"http://www.w3.org/1999/xlink\" width=\"100.0\" height=\"100.0\" viewBox=\"-0.04 -0.04 1.08 1.08\" preserveAspectRatio=\"xMinYMin meet\"><g transform=\"matrix(1,0,0,-1,0,1.0)\"><g><polyline fill=\"none\" stroke=\"#66cc99\" stroke-width=\"0.0216\" points=\"0.0,0.0 1.0,1.0\" opacity=\"0.8\" /><circle cx=\"0.5\" cy=\"0.5\" r=\"0.0324\" stroke=\"#555555\" stroke-width=\"0.0108\" fill=\"#66cc99\" opacity=\"0.6\" /></g></g></svg>"
      ],
      "text/plain": [
       "<shapely.geometry.collection.GeometryCollection at 0x110afe880>"
      ]
     },
     "execution_count": 52,
     "metadata": {},
     "output_type": "execute_result"
    }
   ],
   "source": [
    "from shapely.geometry import LineString, Point\n",
    "line = LineString([(0, 0), (1, 1)])\n",
    "point1 = Point(0.5, 0.5)\n",
    "print(line.contains(point1))#线与点的关系\n",
    "geo.GeometryCollection([line, point1])"
   ]
  },
  {
   "cell_type": "code",
   "execution_count": 53,
   "id": "7a9a3c59",
   "metadata": {},
   "outputs": [
    {
     "name": "stdout",
     "output_type": "stream",
     "text": [
      "False\n"
     ]
    },
    {
     "data": {
      "image/svg+xml": [
       "<svg xmlns=\"http://www.w3.org/2000/svg\" xmlns:xlink=\"http://www.w3.org/1999/xlink\" width=\"100.0\" height=\"100.0\" viewBox=\"-0.04 -0.04 1.08 1.08\" preserveAspectRatio=\"xMinYMin meet\"><g transform=\"matrix(1,0,0,-1,0,1.0)\"><g><polyline fill=\"none\" stroke=\"#66cc99\" stroke-width=\"0.0216\" points=\"0.0,0.0 1.0,1.0\" opacity=\"0.8\" /><circle cx=\"1.0\" cy=\"1.0\" r=\"0.0324\" stroke=\"#555555\" stroke-width=\"0.0108\" fill=\"#66cc99\" opacity=\"0.6\" /></g></g></svg>"
      ],
      "text/plain": [
       "<shapely.geometry.collection.GeometryCollection at 0x11173f160>"
      ]
     },
     "execution_count": 53,
     "metadata": {},
     "output_type": "execute_result"
    }
   ],
   "source": [
    "point2 = Point(1, 1)\n",
    "print(line.contains(point2))\n",
    "#因为line的边界不是属于在该对象的内部，所以返回是False\n",
    "geo.GeometryCollection([line, point2])"
   ]
  },
  {
   "cell_type": "code",
   "execution_count": 54,
   "id": "de4c1bca",
   "metadata": {},
   "outputs": [
    {
     "name": "stdout",
     "output_type": "stream",
     "text": [
      "False\n"
     ]
    },
    {
     "data": {
      "image/svg+xml": [
       "<svg xmlns=\"http://www.w3.org/2000/svg\" xmlns:xlink=\"http://www.w3.org/1999/xlink\" width=\"100.0\" height=\"100.0\" viewBox=\"-0.04 -0.04 1.08 1.08\" preserveAspectRatio=\"xMinYMin meet\"><g transform=\"matrix(1,0,0,-1,0,1.0)\"><g><path fill-rule=\"evenodd\" fill=\"#66cc99\" stroke=\"#555555\" stroke-width=\"0.0216\" opacity=\"0.6\" d=\"M 0.0,0.0 L 1.0,1.0 L 1.0,0.0 L 0.0,0.0 z\" /><circle cx=\"1.0\" cy=\"1.0\" r=\"0.0324\" stroke=\"#555555\" stroke-width=\"0.0108\" fill=\"#66cc99\" opacity=\"0.6\" /></g></g></svg>"
      ],
      "text/plain": [
       "<shapely.geometry.collection.GeometryCollection at 0x11a3791c0>"
      ]
     },
     "execution_count": 54,
     "metadata": {},
     "output_type": "execute_result"
    }
   ],
   "source": [
    "print(polygon1.contains(point2))#面与点的关系\n",
    "#同理这个contains方法也可以扩展到面与线的关系以及面与面的关系\n",
    "geo.GeometryCollection([polygon1,point2])"
   ]
  },
  {
   "cell_type": "markdown",
   "id": "adacb3c3",
   "metadata": {},
   "source": [
    "2.object.crosses(other)\\\n",
    "如果一个object与另一个object是内部相交的关系而不是包含的关系，则返回True"
   ]
  },
  {
   "cell_type": "code",
   "execution_count": 58,
   "id": "7a0f2c27",
   "metadata": {},
   "outputs": [
    {
     "name": "stdout",
     "output_type": "stream",
     "text": [
      "True\n"
     ]
    },
    {
     "data": {
      "image/svg+xml": [
       "<svg xmlns=\"http://www.w3.org/2000/svg\" xmlns:xlink=\"http://www.w3.org/1999/xlink\" width=\"100.0\" height=\"100.0\" viewBox=\"-0.04 -0.04 1.08 1.08\" preserveAspectRatio=\"xMinYMin meet\"><g transform=\"matrix(1,0,0,-1,0,1.0)\"><g><polyline fill=\"none\" stroke=\"#66cc99\" stroke-width=\"0.0216\" points=\"0.0,0.0 1.0,1.0\" opacity=\"0.8\" /><polyline fill=\"none\" stroke=\"#66cc99\" stroke-width=\"0.0216\" points=\"0.0,1.0 1.0,0.0\" opacity=\"0.8\" /></g></g></svg>"
      ],
      "text/plain": [
       "<shapely.geometry.collection.GeometryCollection at 0x11a398820>"
      ]
     },
     "execution_count": 58,
     "metadata": {},
     "output_type": "execute_result"
    }
   ],
   "source": [
    "line2 = LineString([(0, 1), (1, 0)])\n",
    "print(line.crosses(line2))\n",
    "geo.GeometryCollection([line,line2])"
   ]
  },
  {
   "cell_type": "code",
   "execution_count": 59,
   "id": "0de33ec6",
   "metadata": {},
   "outputs": [
    {
     "name": "stdout",
     "output_type": "stream",
     "text": [
      "False\n"
     ]
    },
    {
     "data": {
      "image/svg+xml": [
       "<svg xmlns=\"http://www.w3.org/2000/svg\" xmlns:xlink=\"http://www.w3.org/1999/xlink\" width=\"100.0\" height=\"100.0\" viewBox=\"-0.04 -0.04 1.08 1.08\" preserveAspectRatio=\"xMinYMin meet\"><g transform=\"matrix(1,0,0,-1,0,1.0)\"><g><path fill-rule=\"evenodd\" fill=\"#66cc99\" stroke=\"#555555\" stroke-width=\"0.0216\" opacity=\"0.6\" d=\"M 0.0,0.0 L 1.0,1.0 L 1.0,0.0 L 0.0,0.0 z\" /><polyline fill=\"none\" stroke=\"#66cc99\" stroke-width=\"0.0216\" points=\"0.5,0.5 1.0,0.5\" opacity=\"0.8\" /></g></g></svg>"
      ],
      "text/plain": [
       "<shapely.geometry.collection.GeometryCollection at 0x11173f2e0>"
      ]
     },
     "execution_count": 59,
     "metadata": {},
     "output_type": "execute_result"
    }
   ],
   "source": [
    "line3 = LineString([(0.5, 0.5), (1, 0.5)])\n",
    "print(polygon1.crosses(line3))\n",
    "geo.GeometryCollection([polygon1, line3])"
   ]
  },
  {
   "cell_type": "markdown",
   "id": "6babb49f",
   "metadata": {},
   "source": [
    "3.object.disjoint(other)\\\n",
    "如果该对象与另一个对象的内部和边界都不相交则返回True"
   ]
  },
  {
   "cell_type": "code",
   "execution_count": 62,
   "id": "3f19c4fc",
   "metadata": {},
   "outputs": [
    {
     "name": "stdout",
     "output_type": "stream",
     "text": [
      "True\n"
     ]
    },
    {
     "data": {
      "image/svg+xml": [
       "<svg xmlns=\"http://www.w3.org/2000/svg\" xmlns:xlink=\"http://www.w3.org/1999/xlink\" width=\"100.0\" height=\"100.0\" viewBox=\"-0.04 -0.04 1.08 0.5800000000000001\" preserveAspectRatio=\"xMinYMin meet\"><g transform=\"matrix(1,0,0,-1,0,0.5)\"><g><polyline fill=\"none\" stroke=\"#66cc99\" stroke-width=\"0.0216\" points=\"0.0,0.0 0.5,0.0\" opacity=\"0.8\" /><polyline fill=\"none\" stroke=\"#66cc99\" stroke-width=\"0.0216\" points=\"0.5,0.5 1.0,0.5\" opacity=\"0.8\" /></g></g></svg>"
      ],
      "text/plain": [
       "<shapely.geometry.collection.GeometryCollection at 0x1123f4cd0>"
      ]
     },
     "execution_count": 62,
     "metadata": {},
     "output_type": "execute_result"
    }
   ],
   "source": [
    "line4 =  LineString([(0, 0), (0.5, 0)])\n",
    "print(line4.disjoint(line3))\n",
    "geo.GeometryCollection([line4, line3])"
   ]
  },
  {
   "cell_type": "markdown",
   "id": "f14d3e9d",
   "metadata": {},
   "source": [
    "4.object.intersects(other)\\\n",
    "如果该几何对象与另一个几何对象只要相交则返回True。"
   ]
  },
  {
   "cell_type": "code",
   "execution_count": 60,
   "id": "142e6d44",
   "metadata": {},
   "outputs": [
    {
     "name": "stdout",
     "output_type": "stream",
     "text": [
      "True\n"
     ]
    },
    {
     "data": {
      "image/svg+xml": [
       "<svg xmlns=\"http://www.w3.org/2000/svg\" xmlns:xlink=\"http://www.w3.org/1999/xlink\" width=\"100.0\" height=\"100.0\" viewBox=\"-0.04 -0.04 1.08 1.08\" preserveAspectRatio=\"xMinYMin meet\"><g transform=\"matrix(1,0,0,-1,0,1.0)\"><g><path fill-rule=\"evenodd\" fill=\"#66cc99\" stroke=\"#555555\" stroke-width=\"0.0216\" opacity=\"0.6\" d=\"M 0.0,0.0 L 1.0,1.0 L 1.0,0.0 L 0.0,0.0 z\" /><polyline fill=\"none\" stroke=\"#66cc99\" stroke-width=\"0.0216\" points=\"0.5,0.5 1.0,0.5\" opacity=\"0.8\" /></g></g></svg>"
      ],
      "text/plain": [
       "<shapely.geometry.collection.GeometryCollection at 0x11a379220>"
      ]
     },
     "execution_count": 60,
     "metadata": {},
     "output_type": "execute_result"
    }
   ],
   "source": [
    "print(polygon1.intersects(line3))\n",
    "geo.GeometryCollection([polygon1, line3])"
   ]
  },
  {
   "cell_type": "markdown",
   "id": "856269bd",
   "metadata": {},
   "source": [
    "5.object.convex_hull\\\n",
    "返回包含对象中所有点的最小凸多边形（凸包）"
   ]
  },
  {
   "cell_type": "code",
   "execution_count": 63,
   "id": "0268e9cc",
   "metadata": {},
   "outputs": [
    {
     "data": {
      "image/svg+xml": [
       "<svg xmlns=\"http://www.w3.org/2000/svg\" xmlns:xlink=\"http://www.w3.org/1999/xlink\" width=\"100.0\" height=\"100.0\" viewBox=\"-0.12 -0.12 3.24 2.24\" preserveAspectRatio=\"xMinYMin meet\"><g transform=\"matrix(1,0,0,-1,0,2.0)\"><g><path fill-rule=\"evenodd\" fill=\"#66cc99\" stroke=\"#555555\" stroke-width=\"0.06480000000000001\" opacity=\"0.6\" d=\"M 0.0,0.0 L 0.0,2.0 L 2.0,2.0 L 3.0,1.0 L 1.0,0.0 L 0.0,0.0 z\" /><g><circle cx=\"0.0\" cy=\"0.0\" r=\"0.09720000000000001\" stroke=\"#555555\" stroke-width=\"0.032400000000000005\" fill=\"#66cc99\" opacity=\"0.6\" /><circle cx=\"1.0\" cy=\"1.0\" r=\"0.09720000000000001\" stroke=\"#555555\" stroke-width=\"0.032400000000000005\" fill=\"#66cc99\" opacity=\"0.6\" /><circle cx=\"0.0\" cy=\"2.0\" r=\"0.09720000000000001\" stroke=\"#555555\" stroke-width=\"0.032400000000000005\" fill=\"#66cc99\" opacity=\"0.6\" /><circle cx=\"2.0\" cy=\"2.0\" r=\"0.09720000000000001\" stroke=\"#555555\" stroke-width=\"0.032400000000000005\" fill=\"#66cc99\" opacity=\"0.6\" /><circle cx=\"3.0\" cy=\"1.0\" r=\"0.09720000000000001\" stroke=\"#555555\" stroke-width=\"0.032400000000000005\" fill=\"#66cc99\" opacity=\"0.6\" /><circle cx=\"1.0\" cy=\"0.0\" r=\"0.09720000000000001\" stroke=\"#555555\" stroke-width=\"0.032400000000000005\" fill=\"#66cc99\" opacity=\"0.6\" /></g></g></g></svg>"
      ],
      "text/plain": [
       "<shapely.geometry.collection.GeometryCollection at 0x110afef10>"
      ]
     },
     "execution_count": 63,
     "metadata": {},
     "output_type": "execute_result"
    }
   ],
   "source": [
    "# 在下图中即为在给定6个point之后求其凸包，并绘制出来的凸包图形\n",
    "points1 = geo.MultiPoint([(0, 0), (1, 1), (0, 2), (2, 2), (3, 1), (1, 0)])\n",
    "hull1 = points1.convex_hull\n",
    "geo.GeometryCollection([hull1,points1])"
   ]
  },
  {
   "cell_type": "markdown",
   "id": "4b4baf3a",
   "metadata": {},
   "source": [
    "6.object.intersection\\\n",
    "返回对象与对象之间的交集"
   ]
  },
  {
   "cell_type": "code",
   "execution_count": 64,
   "id": "8274e4bf",
   "metadata": {},
   "outputs": [
    {
     "data": {
      "image/svg+xml": [
       "<svg xmlns=\"http://www.w3.org/2000/svg\" xmlns:xlink=\"http://www.w3.org/1999/xlink\" width=\"100.0\" height=\"100.0\" viewBox=\"-0.12 -0.12 3.24 2.24\" preserveAspectRatio=\"xMinYMin meet\"><g transform=\"matrix(1,0,0,-1,0,2.0)\"><g><path fill-rule=\"evenodd\" fill=\"#66cc99\" stroke=\"#555555\" stroke-width=\"0.06480000000000001\" opacity=\"0.6\" d=\"M 0.0,0.0 L 0.0,2.0 L 2.0,2.0 L 3.0,1.0 L 1.0,0.0 L 0.0,0.0 z\" /><path fill-rule=\"evenodd\" fill=\"#66cc99\" stroke=\"#555555\" stroke-width=\"0.06480000000000001\" opacity=\"0.6\" d=\"M 0.0,0.0 L 0.0,2.0 L 2.0,2.0 L 2.0,0.0 L 0.0,0.0 z\" /></g></g></svg>"
      ],
      "text/plain": [
       "<shapely.geometry.collection.GeometryCollection at 0x11a398dc0>"
      ]
     },
     "execution_count": 64,
     "metadata": {},
     "output_type": "execute_result"
    }
   ],
   "source": [
    "polygon1 = Polygon( [(0, 0), (0, 2), (2, 2), (2, 0), (0, 0)])\n",
    "geo.GeometryCollection([hull1,polygon1])"
   ]
  },
  {
   "cell_type": "code",
   "execution_count": 65,
   "id": "1ce13225",
   "metadata": {},
   "outputs": [
    {
     "data": {
      "image/svg+xml": [
       "<svg xmlns=\"http://www.w3.org/2000/svg\" xmlns:xlink=\"http://www.w3.org/1999/xlink\" width=\"100.0\" height=\"100.0\" viewBox=\"-0.08 -0.08 2.16 2.16\" preserveAspectRatio=\"xMinYMin meet\"><g transform=\"matrix(1,0,0,-1,0,2.0)\"><path fill-rule=\"evenodd\" fill=\"#66cc99\" stroke=\"#555555\" stroke-width=\"0.0432\" opacity=\"0.6\" d=\"M 0.0,0.0 L 0.0,2.0 L 2.0,2.0 L 2.0,0.5 L 1.0,0.0 L 0.0,0.0 z\" /></g></svg>"
      ],
      "text/plain": [
       "<shapely.geometry.polygon.Polygon at 0x11173f250>"
      ]
     },
     "execution_count": 65,
     "metadata": {},
     "output_type": "execute_result"
    }
   ],
   "source": [
    "hull1.intersection(polygon1)"
   ]
  },
  {
   "cell_type": "markdown",
   "id": "7bbedc48",
   "metadata": {},
   "source": [
    "7.object.union\\\n",
    "返回对象与对象之间的并集"
   ]
  },
  {
   "cell_type": "code",
   "execution_count": 66,
   "id": "f54c2734",
   "metadata": {},
   "outputs": [
    {
     "data": {
      "image/svg+xml": [
       "<svg xmlns=\"http://www.w3.org/2000/svg\" xmlns:xlink=\"http://www.w3.org/1999/xlink\" width=\"100.0\" height=\"100.0\" viewBox=\"-0.12 -0.12 3.24 2.24\" preserveAspectRatio=\"xMinYMin meet\"><g transform=\"matrix(1,0,0,-1,0,2.0)\"><path fill-rule=\"evenodd\" fill=\"#66cc99\" stroke=\"#555555\" stroke-width=\"0.06480000000000001\" opacity=\"0.6\" d=\"M 0.0,0.0 L 0.0,2.0 L 2.0,2.0 L 3.0,1.0 L 2.0,0.5 L 2.0,0.0 L 1.0,0.0 L 0.0,0.0 z\" /></g></svg>"
      ],
      "text/plain": [
       "<shapely.geometry.polygon.Polygon at 0x11173f040>"
      ]
     },
     "execution_count": 66,
     "metadata": {},
     "output_type": "execute_result"
    }
   ],
   "source": [
    "hull1.union(polygon1)"
   ]
  },
  {
   "cell_type": "markdown",
   "id": "71c0544d",
   "metadata": {},
   "source": [
    "8.object.difference\\\n",
    "返回对象与对象之间的补集"
   ]
  },
  {
   "cell_type": "code",
   "execution_count": 68,
   "id": "a108a353",
   "metadata": {},
   "outputs": [
    {
     "data": {
      "image/svg+xml": [
       "<svg xmlns=\"http://www.w3.org/2000/svg\" xmlns:xlink=\"http://www.w3.org/1999/xlink\" width=\"100.0\" height=\"100.0\" viewBox=\"0.96 -0.04 1.08 0.5800000000000001\" preserveAspectRatio=\"xMinYMin meet\"><g transform=\"matrix(1,0,0,-1,0,0.5)\"><path fill-rule=\"evenodd\" fill=\"#66cc99\" stroke=\"#555555\" stroke-width=\"0.0216\" opacity=\"0.6\" d=\"M 2.0,0.5 L 2.0,0.0 L 1.0,0.0 L 2.0,0.5 z\" /></g></svg>"
      ],
      "text/plain": [
       "<shapely.geometry.polygon.Polygon at 0x11a398e80>"
      ]
     },
     "execution_count": 68,
     "metadata": {},
     "output_type": "execute_result"
    }
   ],
   "source": [
    "polygon1.difference(hull1)"
   ]
  },
  {
   "cell_type": "code",
   "execution_count": 69,
   "id": "7a30d7a5",
   "metadata": {},
   "outputs": [
    {
     "data": {
      "image/svg+xml": [
       "<svg xmlns=\"http://www.w3.org/2000/svg\" xmlns:xlink=\"http://www.w3.org/1999/xlink\" width=\"100.0\" height=\"100.0\" viewBox=\"1.94 0.44 1.12 1.62\" preserveAspectRatio=\"xMinYMin meet\"><g transform=\"matrix(1,0,0,-1,0,2.5)\"><path fill-rule=\"evenodd\" fill=\"#66cc99\" stroke=\"#555555\" stroke-width=\"0.032400000000000005\" opacity=\"0.6\" d=\"M 2.0,2.0 L 3.0,1.0 L 2.0,0.5 L 2.0,2.0 z\" /></g></svg>"
      ],
      "text/plain": [
       "<shapely.geometry.polygon.Polygon at 0x11238b340>"
      ]
     },
     "execution_count": 69,
     "metadata": {},
     "output_type": "execute_result"
    }
   ],
   "source": [
    "hull1.difference(polygon1)"
   ]
  },
  {
   "cell_type": "markdown",
   "id": "ad845ed4",
   "metadata": {},
   "source": [
    "与numpy和python数组之间的关系\\\n",
    "point、LineRing和LineString提供numpy数组接口，可以进行转换numpy数组"
   ]
  },
  {
   "cell_type": "code",
   "execution_count": 70,
   "id": "e3270db4",
   "metadata": {},
   "outputs": [
    {
     "name": "stdout",
     "output_type": "stream",
     "text": [
      "[0. 0.]\n"
     ]
    }
   ],
   "source": [
    "from shapely.geometry import asPoint,asLineString,asMultiPoint,asPolygon\n",
    "import numpy as np\n",
    "pa = asPoint(np.array([0.0, 0.0]))#将numpy数组转换成point格式\n",
    "la = asLineString(np.array([[1.0, 2.0], [3.0, 4.0]]))#将numpy数组转换成LineString格式\n",
    "ma = asMultiPoint(np.array([[1.1, 2.2], [3.3, 4.4], [5.5, 6.6]]))#将numpy数组转换成multipoint集合\n",
    "pg = asPolygon(np.array([[1.1, 2.2], [3.3, 4.4], [5.5, 6.6]]))#将numpy数组转换成polygon\n",
    "print(np.array(pa))#将Point转换成numpy格式"
   ]
  },
  {
   "cell_type": "markdown",
   "id": "5a1d8ebc",
   "metadata": {},
   "source": [
    "另外还有一些非常有用但是不属于某个类方法的函数，如有需要可以在官网查阅\n",
    "- ops.nearest_points 求最近点\n",
    "- ops.split 分割线\n",
    "- ops.substring 求子串\n",
    "- affinity.rotate 旋转几何体\n",
    "- affinity.scale 缩放几何体\n",
    "- affinity.translate 平移几何体"
   ]
  },
  {
   "cell_type": "markdown",
   "id": "a253fb44",
   "metadata": {},
   "source": [
    "### 2. geopandas"
   ]
  },
  {
   "cell_type": "markdown",
   "id": "f56f94ee",
   "metadata": {},
   "source": [
    "GeoPandas提供了地理空间数据的高级接口，它让使用python处理地理空间数据变得更容易。GeoPandas扩展了pandas。)使用的数据类型，允许对几何类型进行空间操作。几何运算由shapely执行。Geopandas进一步依赖fiona进行文件访问，依赖matplotlib进行绘图。\n",
    "\n",
    "\n",
    "geopandas和pandas一样，一共有两种数据类型：\n",
    "- GeoSeries\n",
    "- GeoDataFrame 它们继承了pandas数据结构的大部分方法。这两个数据结构可以当做地理空间数据的存储器，shapefile文件的pandas呈现。\n",
    "\n",
    "Shapefile文件用于描述几何体对象：点，折线与多边形。例如，Shapefile文件可以存储井、河流、湖泊等空间对象的几何位置。除了几何位置，shp文件也可以存储这些空间对象的属性，例如一条河流的名字，一个城市的温度等等。\n",
    "\n",
    "例如，当安装geopandas库后，便可通过matplotlib直接画出当安装geopandas数据集中的世界地图\n"
   ]
  },
  {
   "cell_type": "code",
   "execution_count": 72,
   "id": "1c644e41",
   "metadata": {},
   "outputs": [
    {
     "data": {
      "image/png": "[encoded data removed]",
      "text/plain": [
       "<Figure size 432x288 with 1 Axes>"
      ]
     },
     "metadata": {
      "needs_background": "light"
     },
     "output_type": "display_data"
    }
   ],
   "source": [
    "import pandas as pd\n",
    "import geopandas\n",
    "import matplotlib.pyplot as plt\n",
    "world = geopandas.read_file(geopandas.datasets.get_path('naturalearth_lowres'))#read_file方法可以读取shape文件，转化为GeoSeries和GeoDataFrame数据类型。\n",
    "world.plot()#将GeoDataFrame变成图形展示出来，得到世界地图\n",
    "plt.show()"
   ]
  },
  {
   "cell_type": "code",
   "execution_count": 73,
   "id": "33ca2dce",
   "metadata": {},
   "outputs": [
    {
     "data": {
      "text/html": [
       "<div>\n",
       "<style scoped>\n",
       "    .dataframe tbody tr th:only-of-type {\n",
       "        vertical-align: middle;\n",
       "    }\n",
       "\n",
       "    .dataframe tbody tr th {\n",
       "        vertical-align: top;\n",
       "    }\n",
       "\n",
       "    .dataframe thead th {\n",
       "        text-align: right;\n",
       "    }\n",
       "</style>\n",
       "<table border=\"1\" class=\"dataframe\">\n",
       "  <thead>\n",
       "    <tr style=\"text-align: right;\">\n",
       "      <th></th>\n",
       "      <th>pop_est</th>\n",
       "      <th>continent</th>\n",
       "      <th>name</th>\n",
       "      <th>iso_a3</th>\n",
       "      <th>gdp_md_est</th>\n",
       "      <th>geometry</th>\n",
       "    </tr>\n",
       "  </thead>\n",
       "  <tbody>\n",
       "    <tr>\n",
       "      <th>0</th>\n",
       "      <td>920938</td>\n",
       "      <td>Oceania</td>\n",
       "      <td>Fiji</td>\n",
       "      <td>FJI</td>\n",
       "      <td>8374.0</td>\n",
       "      <td>MULTIPOLYGON (((180.00000 -16.06713, 180.00000...</td>\n",
       "    </tr>\n",
       "    <tr>\n",
       "      <th>1</th>\n",
       "      <td>53950935</td>\n",
       "      <td>Africa</td>\n",
       "      <td>Tanzania</td>\n",
       "      <td>TZA</td>\n",
       "      <td>150600.0</td>\n",
       "      <td>POLYGON ((33.90371 -0.95000, 34.07262 -1.05982...</td>\n",
       "    </tr>\n",
       "    <tr>\n",
       "      <th>2</th>\n",
       "      <td>603253</td>\n",
       "      <td>Africa</td>\n",
       "      <td>W. Sahara</td>\n",
       "      <td>ESH</td>\n",
       "      <td>906.5</td>\n",
       "      <td>POLYGON ((-8.66559 27.65643, -8.66512 27.58948...</td>\n",
       "    </tr>\n",
       "    <tr>\n",
       "      <th>3</th>\n",
       "      <td>35623680</td>\n",
       "      <td>North America</td>\n",
       "      <td>Canada</td>\n",
       "      <td>CAN</td>\n",
       "      <td>1674000.0</td>\n",
       "      <td>MULTIPOLYGON (((-122.84000 49.00000, -122.9742...</td>\n",
       "    </tr>\n",
       "    <tr>\n",
       "      <th>4</th>\n",
       "      <td>326625791</td>\n",
       "      <td>North America</td>\n",
       "      <td>United States of America</td>\n",
       "      <td>USA</td>\n",
       "      <td>18560000.0</td>\n",
       "      <td>MULTIPOLYGON (((-122.84000 49.00000, -120.0000...</td>\n",
       "    </tr>\n",
       "  </tbody>\n",
       "</table>\n",
       "</div>"
      ],
      "text/plain": [
       "     pop_est      continent                      name iso_a3  gdp_md_est  \\\n",
       "0     920938        Oceania                      Fiji    FJI      8374.0   \n",
       "1   53950935         Africa                  Tanzania    TZA    150600.0   \n",
       "2     603253         Africa                 W. Sahara    ESH       906.5   \n",
       "3   35623680  North America                    Canada    CAN   1674000.0   \n",
       "4  326625791  North America  United States of America    USA  18560000.0   \n",
       "\n",
       "                                            geometry  \n",
       "0  MULTIPOLYGON (((180.00000 -16.06713, 180.00000...  \n",
       "1  POLYGON ((33.90371 -0.95000, 34.07262 -1.05982...  \n",
       "2  POLYGON ((-8.66559 27.65643, -8.66512 27.58948...  \n",
       "3  MULTIPOLYGON (((-122.84000 49.00000, -122.9742...  \n",
       "4  MULTIPOLYGON (((-122.84000 49.00000, -120.0000...  "
      ]
     },
     "execution_count": 73,
     "metadata": {},
     "output_type": "execute_result"
    }
   ],
   "source": [
    "world.head()"
   ]
  },
  {
   "cell_type": "code",
   "execution_count": 74,
   "id": "c75e08e6",
   "metadata": {},
   "outputs": [
    {
     "data": {
      "image/png": "[encoded data removed]",
      "text/plain": [
       "<Figure size 900x600 with 2 Axes>"
      ]
     },
     "metadata": {
      "needs_background": "light"
     },
     "output_type": "display_data"
    }
   ],
   "source": [
    "#根据每一个polygon的pop_est不同，便可以用python绘制图表显示不同国家的人数\n",
    "fig, ax = plt.subplots(figsize=(9,6),dpi = 100)\n",
    "world.plot('pop_est',ax = ax,legend = True)\n",
    "plt.show()\n"
   ]
  },
  {
   "cell_type": "markdown",
   "id": "3b541c1f",
   "metadata": {},
   "source": [
    "由以上geodataframe的实例world可知，其最后一列是geometry。其几何对象包括了MULTIPOLYGON 、POLYGON，那么便同样可以用刚才介绍的shapely库进行分析。\\\n",
    "\n",
    "具体的geopadandas常用的方法可以参考这篇文章 https://www.cnblogs.com/giserliu/p/4988615.html \\\n",
    "geopdandas的相关中文案例和分析可参考这个集锦，了解一下具体使用情况\n",
    "https://mp.weixin.qq.com/mp/appmsgalbum?action=getalbum&__biz=MzA3ODYwNDkzOQ==&scene=1&album_id=1342860388945444864&count=3#wechat_redirect"
   ]
  },
  {
   "cell_type": "markdown",
   "id": "37da907b",
   "metadata": {},
   "source": [
    "### 3. Folium"
   ]
  },
  {
   "cell_type": "markdown",
   "id": "2a41b0a9",
   "metadata": {},
   "source": [
    "folium可以满足我们平时常用的热力图、填充地图、路径图、散点标记等高频可视化场景。folium也可以通过flask让地图和我们的数据在网页上显示，极其便利"
   ]
  },
  {
   "cell_type": "code",
   "execution_count": 77,
   "id": "f5fd97c4",
   "metadata": {},
   "outputs": [
    {
     "data": {
      "text/html": [
       "<div style=\"width:100%;\"><div style=\"position:relative;width:100%;height:0;padding-bottom:60%;\"><span style=\"color:#565656\">Make this Notebook Trusted to load map: File -> Trust Notebook</span><iframe src=\"about:blank\" style=\"position:absolute;width:100%;height:100%;left:0;top:0;border:none !important;\" data-html=%3C%21DOCTYPE%20html%3E%0A%3Chead%3E%20%20%20%20%0A%20%20%20%20%3Cmeta%20http-equiv%3D%22content-type%22%20content%3D%22text/html%3B%20charset%3DUTF-8%22%20/%3E%0A%20%20%20%20%0A%20%20%20%20%20%20%20%20%3Cscript%3E%0A%20%20%20%20%20%20%20%20%20%20%20%20L_NO_TOUCH%20%3D%20false%3B%0A%20%20%20%20%20%20%20%20%20%20%20%20L_DISABLE_3D%20%3D%20false%3B%0A%20%20%20%20%20%20%20%20%3C/script%3E%0A%20%20%20%20%0A%20%20%20%20%3Cstyle%3Ehtml%2C%20body%20%7Bwidth%3A%20100%25%3Bheight%3A%20100%25%3Bmargin%3A%200%3Bpadding%3A%200%3B%7D%3C/style%3E%0A%20%20%20%20%3Cstyle%3E%23map%20%7Bposition%3Aabsolute%3Btop%3A0%3Bbottom%3A0%3Bright%3A0%3Bleft%3A0%3B%7D%3C/style%3E%0A%20%20%20%20%3Cscript%20src%3D%22https%3A//cdn.jsdelivr.net/npm/leaflet%401.6.0/dist/leaflet.js%22%3E%3C/script%3E%0A%20%20%20%20%3Cscript%20src%3D%22https%3A//code.jquery.com/jquery-1.12.4.min.js%22%3E%3C/script%3E%0A%20%20%20%20%3Cscript%20src%3D%22https%3A//maxcdn.bootstrapcdn.com/bootstrap/3.2.0/js/bootstrap.min.js%22%3E%3C/script%3E%0A%20%20%20%20%3Cscript%20src%3D%22https%3A//cdnjs.cloudflare.com/ajax/libs/Leaflet.awesome-markers/2.0.2/leaflet.awesome-markers.js%22%3E%3C/script%3E%0A%20%20%20%20%3Clink%20rel%3D%22stylesheet%22%20href%3D%22https%3A//cdn.jsdelivr.net/npm/leaflet%401.6.0/dist/leaflet.css%22/%3E%0A%20%20%20%20%3Clink%20rel%3D%22stylesheet%22%20href%3D%22https%3A//maxcdn.bootstrapcdn.com/bootstrap/3.2.0/css/bootstrap.min.css%22/%3E%0A%20%20%20%20%3Clink%20rel%3D%22stylesheet%22%20href%3D%22https%3A//maxcdn.bootstrapcdn.com/bootstrap/3.2.0/css/bootstrap-theme.min.css%22/%3E%0A%20%20%20%20%3Clink%20rel%3D%22stylesheet%22%20href%3D%22https%3A//maxcdn.bootstrapcdn.com/font-awesome/4.6.3/css/font-awesome.min.css%22/%3E%0A%20%20%20%20%3Clink%20rel%3D%22stylesheet%22%20href%3D%22https%3A//cdnjs.cloudflare.com/ajax/libs/Leaflet.awesome-markers/2.0.2/leaflet.awesome-markers.css%22/%3E%0A%20%20%20%20%3Clink%20rel%3D%22stylesheet%22%20href%3D%22https%3A//cdn.jsdelivr.net/gh/python-visualization/folium/folium/templates/leaflet.awesome.rotate.min.css%22/%3E%0A%20%20%20%20%0A%20%20%20%20%20%20%20%20%20%20%20%20%3Cmeta%20name%3D%22viewport%22%20content%3D%22width%3Ddevice-width%2C%0A%20%20%20%20%20%20%20%20%20%20%20%20%20%20%20%20initial-scale%3D1.0%2C%20maximum-scale%3D1.0%2C%20user-scalable%3Dno%22%20/%3E%0A%20%20%20%20%20%20%20%20%20%20%20%20%3Cstyle%3E%0A%20%20%20%20%20%20%20%20%20%20%20%20%20%20%20%20%23map_e888ac41fee3485ca122ed11132fd5df%20%7B%0A%20%20%20%20%20%20%20%20%20%20%20%20%20%20%20%20%20%20%20%20position%3A%20relative%3B%0A%20%20%20%20%20%20%20%20%20%20%20%20%20%20%20%20%20%20%20%20width%3A%20100.0%25%3B%0A%20%20%20%20%20%20%20%20%20%20%20%20%20%20%20%20%20%20%20%20height%3A%20100.0%25%3B%0A%20%20%20%20%20%20%20%20%20%20%20%20%20%20%20%20%20%20%20%20left%3A%200.0%25%3B%0A%20%20%20%20%20%20%20%20%20%20%20%20%20%20%20%20%20%20%20%20top%3A%200.0%25%3B%0A%20%20%20%20%20%20%20%20%20%20%20%20%20%20%20%20%7D%0A%20%20%20%20%20%20%20%20%20%20%20%20%3C/style%3E%0A%20%20%20%20%20%20%20%20%0A%3C/head%3E%0A%3Cbody%3E%20%20%20%20%0A%20%20%20%20%0A%20%20%20%20%20%20%20%20%20%20%20%20%3Cdiv%20class%3D%22folium-map%22%20id%3D%22map_e888ac41fee3485ca122ed11132fd5df%22%20%3E%3C/div%3E%0A%20%20%20%20%20%20%20%20%0A%3C/body%3E%0A%3Cscript%3E%20%20%20%20%0A%20%20%20%20%0A%20%20%20%20%20%20%20%20%20%20%20%20var%20map_e888ac41fee3485ca122ed11132fd5df%20%3D%20L.map%28%0A%20%20%20%20%20%20%20%20%20%20%20%20%20%20%20%20%22map_e888ac41fee3485ca122ed11132fd5df%22%2C%0A%20%20%20%20%20%20%20%20%20%20%20%20%20%20%20%20%7B%0A%20%20%20%20%20%20%20%20%20%20%20%20%20%20%20%20%20%20%20%20center%3A%20%5B39.9%2C%20116.4%5D%2C%0A%20%20%20%20%20%20%20%20%20%20%20%20%20%20%20%20%20%20%20%20crs%3A%20L.CRS.EPSG3857%2C%0A%20%20%20%20%20%20%20%20%20%20%20%20%20%20%20%20%20%20%20%20zoom%3A%2010%2C%0A%20%20%20%20%20%20%20%20%20%20%20%20%20%20%20%20%20%20%20%20zoomControl%3A%20true%2C%0A%20%20%20%20%20%20%20%20%20%20%20%20%20%20%20%20%20%20%20%20preferCanvas%3A%20false%2C%0A%20%20%20%20%20%20%20%20%20%20%20%20%20%20%20%20%7D%0A%20%20%20%20%20%20%20%20%20%20%20%20%29%3B%0A%0A%20%20%20%20%20%20%20%20%20%20%20%20%0A%0A%20%20%20%20%20%20%20%20%0A%20%20%20%20%0A%20%20%20%20%20%20%20%20%20%20%20%20var%20tile_layer_bf67aa0d38b34d25a4784e2409a932e6%20%3D%20L.tileLayer%28%0A%20%20%20%20%20%20%20%20%20%20%20%20%20%20%20%20%22https%3A//%7Bs%7D.tile.openstreetmap.org/%7Bz%7D/%7Bx%7D/%7By%7D.png%22%2C%0A%20%20%20%20%20%20%20%20%20%20%20%20%20%20%20%20%7B%22attribution%22%3A%20%22Data%20by%20%5Cu0026copy%3B%20%5Cu003ca%20href%3D%5C%22http%3A//openstreetmap.org%5C%22%5Cu003eOpenStreetMap%5Cu003c/a%5Cu003e%2C%20under%20%5Cu003ca%20href%3D%5C%22http%3A//www.openstreetmap.org/copyright%5C%22%5Cu003eODbL%5Cu003c/a%5Cu003e.%22%2C%20%22detectRetina%22%3A%20false%2C%20%22maxNativeZoom%22%3A%2018%2C%20%22maxZoom%22%3A%2018%2C%20%22minZoom%22%3A%200%2C%20%22noWrap%22%3A%20false%2C%20%22opacity%22%3A%201%2C%20%22subdomains%22%3A%20%22abc%22%2C%20%22tms%22%3A%20false%7D%0A%20%20%20%20%20%20%20%20%20%20%20%20%29.addTo%28map_e888ac41fee3485ca122ed11132fd5df%29%3B%0A%20%20%20%20%20%20%20%20%0A%3C/script%3E onload=\"this.contentDocument.open();this.contentDocument.write(    decodeURIComponent(this.getAttribute('data-html')));this.contentDocument.close();\" allowfullscreen webkitallowfullscreen mozallowfullscreen></iframe></div></div>"
      ],
      "text/plain": [
       "<folium.folium.Map at 0x122003a00>"
      ]
     },
     "execution_count": 77,
     "metadata": {},
     "output_type": "execute_result"
    }
   ],
   "source": [
    "import folium\n",
    "import os\n",
    "#首先，创建一张指定中心坐标的地图，这里将其中心坐标设置为北京。\n",
    "# zoom_start表示初始地图的缩放尺寸，数值越大放大程度越大\n",
    "m=folium.Map(location=[39.9,116.4],zoom_start=10)\n",
    "m"
   ]
  },
  {
   "cell_type": "code",
   "execution_count": 79,
   "id": "c5a8b4cd",
   "metadata": {},
   "outputs": [],
   "source": [
    "# 用Folium绘制热力图\n",
    "from folium.plugins import HeatMap\n",
    "#先手动生成data数据，该数据格式由[纬度，经度，数值]构成\n",
    "data=(np.random.normal(size=(100,3))*np.array([[1,1,1]])+np.array([[48,5,1]])).tolist()\n"
   ]
  },
  {
   "cell_type": "code",
   "execution_count": 80,
   "id": "e5953251",
   "metadata": {},
   "outputs": [
    {
     "data": {
      "text/html": [
       "<div style=\"width:100%;\"><div style=\"position:relative;width:100%;height:0;padding-bottom:60%;\"><span style=\"color:#565656\">Make this Notebook Trusted to load map: File -> Trust Notebook</span><iframe src=\"about:blank\" style=\"position:absolute;width:100%;height:100%;left:0;top:0;border:none !important;\" data-html=%3C%21DOCTYPE%20html%3E%0A%3Chead%3E%20%20%20%20%0A%20%20%20%20%3Cmeta%20http-equiv%3D%22content-type%22%20content%3D%22text/html%3B%20charset%3DUTF-8%22%20/%3E%0A%20%20%20%20%0A%20%20%20%20%20%20%20%20%3Cscript%3E%0A%20%20%20%20%20%20%20%20%20%20%20%20L_NO_TOUCH%20%3D%20false%3B%0A%20%20%20%20%20%20%20%20%20%20%20%20L_DISABLE_3D%20%3D%20false%3B%0A%20%20%20%20%20%20%20%20%3C/script%3E%0A%20%20%20%20%0A%20%20%20%20%3Cstyle%3Ehtml%2C%20body%20%7Bwidth%3A%20100%25%3Bheight%3A%20100%25%3Bmargin%3A%200%3Bpadding%3A%200%3B%7D%3C/style%3E%0A%20%20%20%20%3Cstyle%3E%23map%20%7Bposition%3Aabsolute%3Btop%3A0%3Bbottom%3A0%3Bright%3A0%3Bleft%3A0%3B%7D%3C/style%3E%0A%20%20%20%20%3Cscript%20src%3D%22https%3A//cdn.jsdelivr.net/npm/leaflet%401.6.0/dist/leaflet.js%22%3E%3C/script%3E%0A%20%20%20%20%3Cscript%20src%3D%22https%3A//code.jquery.com/jquery-1.12.4.min.js%22%3E%3C/script%3E%0A%20%20%20%20%3Cscript%20src%3D%22https%3A//maxcdn.bootstrapcdn.com/bootstrap/3.2.0/js/bootstrap.min.js%22%3E%3C/script%3E%0A%20%20%20%20%3Cscript%20src%3D%22https%3A//cdnjs.cloudflare.com/ajax/libs/Leaflet.awesome-markers/2.0.2/leaflet.awesome-markers.js%22%3E%3C/script%3E%0A%20%20%20%20%3Clink%20rel%3D%22stylesheet%22%20href%3D%22https%3A//cdn.jsdelivr.net/npm/leaflet%401.6.0/dist/leaflet.css%22/%3E%0A%20%20%20%20%3Clink%20rel%3D%22stylesheet%22%20href%3D%22https%3A//maxcdn.bootstrapcdn.com/bootstrap/3.2.0/css/bootstrap.min.css%22/%3E%0A%20%20%20%20%3Clink%20rel%3D%22stylesheet%22%20href%3D%22https%3A//maxcdn.bootstrapcdn.com/bootstrap/3.2.0/css/bootstrap-theme.min.css%22/%3E%0A%20%20%20%20%3Clink%20rel%3D%22stylesheet%22%20href%3D%22https%3A//maxcdn.bootstrapcdn.com/font-awesome/4.6.3/css/font-awesome.min.css%22/%3E%0A%20%20%20%20%3Clink%20rel%3D%22stylesheet%22%20href%3D%22https%3A//cdnjs.cloudflare.com/ajax/libs/Leaflet.awesome-markers/2.0.2/leaflet.awesome-markers.css%22/%3E%0A%20%20%20%20%3Clink%20rel%3D%22stylesheet%22%20href%3D%22https%3A//cdn.jsdelivr.net/gh/python-visualization/folium/folium/templates/leaflet.awesome.rotate.min.css%22/%3E%0A%20%20%20%20%0A%20%20%20%20%20%20%20%20%20%20%20%20%3Cmeta%20name%3D%22viewport%22%20content%3D%22width%3Ddevice-width%2C%0A%20%20%20%20%20%20%20%20%20%20%20%20%20%20%20%20initial-scale%3D1.0%2C%20maximum-scale%3D1.0%2C%20user-scalable%3Dno%22%20/%3E%0A%20%20%20%20%20%20%20%20%20%20%20%20%3Cstyle%3E%0A%20%20%20%20%20%20%20%20%20%20%20%20%20%20%20%20%23map_aa8e8d829cdf48d191a92049aa56126c%20%7B%0A%20%20%20%20%20%20%20%20%20%20%20%20%20%20%20%20%20%20%20%20position%3A%20relative%3B%0A%20%20%20%20%20%20%20%20%20%20%20%20%20%20%20%20%20%20%20%20width%3A%20100.0%25%3B%0A%20%20%20%20%20%20%20%20%20%20%20%20%20%20%20%20%20%20%20%20height%3A%20100.0%25%3B%0A%20%20%20%20%20%20%20%20%20%20%20%20%20%20%20%20%20%20%20%20left%3A%200.0%25%3B%0A%20%20%20%20%20%20%20%20%20%20%20%20%20%20%20%20%20%20%20%20top%3A%200.0%25%3B%0A%20%20%20%20%20%20%20%20%20%20%20%20%20%20%20%20%7D%0A%20%20%20%20%20%20%20%20%20%20%20%20%3C/style%3E%0A%20%20%20%20%20%20%20%20%0A%20%20%20%20%3Cscript%20src%3D%22https%3A//cdn.jsdelivr.net/gh/python-visualization/folium%40master/folium/templates/leaflet_heat.min.js%22%3E%3C/script%3E%0A%3C/head%3E%0A%3Cbody%3E%20%20%20%20%0A%20%20%20%20%0A%20%20%20%20%20%20%20%20%20%20%20%20%3Cdiv%20class%3D%22folium-map%22%20id%3D%22map_aa8e8d829cdf48d191a92049aa56126c%22%20%3E%3C/div%3E%0A%20%20%20%20%20%20%20%20%0A%3C/body%3E%0A%3Cscript%3E%20%20%20%20%0A%20%20%20%20%0A%20%20%20%20%20%20%20%20%20%20%20%20var%20map_aa8e8d829cdf48d191a92049aa56126c%20%3D%20L.map%28%0A%20%20%20%20%20%20%20%20%20%20%20%20%20%20%20%20%22map_aa8e8d829cdf48d191a92049aa56126c%22%2C%0A%20%20%20%20%20%20%20%20%20%20%20%20%20%20%20%20%7B%0A%20%20%20%20%20%20%20%20%20%20%20%20%20%20%20%20%20%20%20%20center%3A%20%5B48.0%2C%205.0%5D%2C%0A%20%20%20%20%20%20%20%20%20%20%20%20%20%20%20%20%20%20%20%20crs%3A%20L.CRS.EPSG3857%2C%0A%20%20%20%20%20%20%20%20%20%20%20%20%20%20%20%20%20%20%20%20zoom%3A%206%2C%0A%20%20%20%20%20%20%20%20%20%20%20%20%20%20%20%20%20%20%20%20zoomControl%3A%20true%2C%0A%20%20%20%20%20%20%20%20%20%20%20%20%20%20%20%20%20%20%20%20preferCanvas%3A%20false%2C%0A%20%20%20%20%20%20%20%20%20%20%20%20%20%20%20%20%7D%0A%20%20%20%20%20%20%20%20%20%20%20%20%29%3B%0A%0A%20%20%20%20%20%20%20%20%20%20%20%20%0A%0A%20%20%20%20%20%20%20%20%0A%20%20%20%20%0A%20%20%20%20%20%20%20%20%20%20%20%20var%20tile_layer_3f10a7fa6f9c4e3ba6aaac2ae9505be4%20%3D%20L.tileLayer%28%0A%20%20%20%20%20%20%20%20%20%20%20%20%20%20%20%20%22https%3A//stamen-tiles-%7Bs%7D.a.ssl.fastly.net/toner/%7Bz%7D/%7Bx%7D/%7By%7D.png%22%2C%0A%20%20%20%20%20%20%20%20%20%20%20%20%20%20%20%20%7B%22attribution%22%3A%20%22Map%20tiles%20by%20%5Cu003ca%20href%3D%5C%22http%3A//stamen.com%5C%22%5Cu003eStamen%20Design%5Cu003c/a%5Cu003e%2C%20under%20%5Cu003ca%20href%3D%5C%22http%3A//creativecommons.org/licenses/by/3.0%5C%22%5Cu003eCC%20BY%203.0%5Cu003c/a%5Cu003e.%20Data%20by%20%5Cu0026copy%3B%20%5Cu003ca%20href%3D%5C%22http%3A//openstreetmap.org%5C%22%5Cu003eOpenStreetMap%5Cu003c/a%5Cu003e%2C%20under%20%5Cu003ca%20href%3D%5C%22http%3A//www.openstreetmap.org/copyright%5C%22%5Cu003eODbL%5Cu003c/a%5Cu003e.%22%2C%20%22detectRetina%22%3A%20false%2C%20%22maxNativeZoom%22%3A%2018%2C%20%22maxZoom%22%3A%2018%2C%20%22minZoom%22%3A%200%2C%20%22noWrap%22%3A%20false%2C%20%22opacity%22%3A%201%2C%20%22subdomains%22%3A%20%22abc%22%2C%20%22tms%22%3A%20false%7D%0A%20%20%20%20%20%20%20%20%20%20%20%20%29.addTo%28map_aa8e8d829cdf48d191a92049aa56126c%29%3B%0A%20%20%20%20%20%20%20%20%0A%20%20%20%20%0A%20%20%20%20%20%20%20%20%20%20%20%20var%20heat_map_64604db3e842421c817e40f3661d5504%20%3D%20L.heatLayer%28%0A%20%20%20%20%20%20%20%20%20%20%20%20%20%20%20%20%5B%5B47.886692636296026%2C%205.4883134384806525%2C%200.3005032667406681%5D%2C%20%5B48.10744783053549%2C%205.695494590755469%2C%201.886479319732707%5D%2C%20%5B46.859241443368%2C%206.2124547629664%2C%202.8910398937828825%5D%2C%20%5B45.75022742038185%2C%205.438508637175139%2C%20-0.1269412568278787%5D%2C%20%5B47.43528835940792%2C%203.7140247732956313%2C%201.413152821460312%5D%2C%20%5B47.91528230625053%2C%204.736269353777854%2C%200.8714284653283344%5D%2C%20%5B45.856468876007746%2C%203.115551670739143%2C%200.2884182229686887%5D%2C%20%5B49.622083178279475%2C%205.476176907305419%2C%203.7991751626099433%5D%2C%20%5B48.62794349855165%2C%206.573971394313483%2C%202.285682037509252%5D%2C%20%5B47.08894165034233%2C%204.66828384839722%2C%202.492972759705334%5D%2C%20%5B48.04284399329827%2C%204.394398282634729%2C%201.0278904731027054%5D%2C%20%5B49.40143912072402%2C%204.928900988549294%2C%20-0.9344137550882039%5D%2C%20%5B48.16357316126125%2C%205.52264300756689%2C%201.2868331418813317%5D%2C%20%5B47.77444705013339%2C%202.956132393384971%2C%200.91844470279985%5D%2C%20%5B48.20916605924014%2C%203.5222509567796934%2C%201.6311079843335194%5D%2C%20%5B48.817557219037965%2C%203.9926747434599417%2C%200.054660027481574724%5D%2C%20%5B48.00562561044453%2C%203.4912178447046607%2C%201.4888471365501639%5D%2C%20%5B47.96493888161911%2C%204.359930226203934%2C%201.5996454183697757%5D%2C%20%5B48.38647230270094%2C%205.278621067508513%2C%200.01288423380965964%5D%2C%20%5B47.77746217134792%2C%206.260856924199689%2C%20-0.3258532190004513%5D%2C%20%5B48.63960439238916%2C%204.856770316748621%2C%20-0.5317772125876266%5D%2C%20%5B48.33374870969653%2C%204.409417750232688%2C%201.1839795277116498%5D%2C%20%5B48.066931714564085%2C%205.102369482962415%2C%200.6060381837674031%5D%2C%20%5B49.72524278536664%2C%206.245439964619258%2C%20-0.12707135604452957%5D%2C%20%5B48.591463275451716%2C%203.6073250146976097%2C%200.37212836182171694%5D%2C%20%5B48.73117170946891%2C%205.274561557075799%2C%201.3044293659084776%5D%2C%20%5B47.851353410655534%2C%205.3146662652512635%2C%201.2318579046037816%5D%2C%20%5B47.92456827482875%2C%203.6390156436873244%2C%202.0509494677122357%5D%2C%20%5B47.48125205166626%2C%205.578406480211511%2C%201.3118257840480685%5D%2C%20%5B47.8605076487416%2C%204.96233005402373%2C%20-0.2277563821124664%5D%2C%20%5B46.81593841665053%2C%205.471734883521769%2C%201.340215338000183%5D%2C%20%5B48.310329397718725%2C%205.242804391747463%2C%202.4389582506192067%5D%2C%20%5B48.085539895084494%2C%204.972583438016387%2C%200.8805785647510794%5D%2C%20%5B48.13207112348335%2C%205.08751668421066%2C%20-2.50750462445032%5D%2C%20%5B48.597479056355304%2C%203.4286195407449074%2C%200.33396816316103706%5D%2C%20%5B48.68039694491305%2C%204.239937786401411%2C%200.1647826199427782%5D%2C%20%5B48.44776474951963%2C%204.809197622585842%2C%202.279130587607156%5D%2C%20%5B49.01254088137092%2C%206.340188494765789%2C%202.7822268457288475%5D%2C%20%5B47.3129257685121%2C%204.39465102649018%2C%201.5333257461002545%5D%2C%20%5B47.869370055023296%2C%203.285532747434064%2C%20-0.5077528379693106%5D%2C%20%5B50.44361805218523%2C%204.704741005902366%2C%20-0.2303509008168909%5D%2C%20%5B50.205550954739905%2C%204.2604486212095605%2C%201.4055710213805948%5D%2C%20%5B47.272183065219075%2C%204.081091834270899%2C%20-0.2418871709044792%5D%2C%20%5B48.83649670154026%2C%204.63205967539941%2C%201.1023680866121666%5D%2C%20%5B49.40162940168029%2C%206.6607947685178175%2C%201.2749914226055696%5D%2C%20%5B46.1946168209998%2C%206.209685918838003%2C%201.4414526694257646%5D%2C%20%5B48.31889607989041%2C%205.123150108529415%2C%201.3796414018405976%5D%2C%20%5B49.16797752408383%2C%205.7443907157834095%2C%202.1531988339933137%5D%2C%20%5B47.88509499540524%2C%206.039611856587737%2C%201.2714526469069671%5D%2C%20%5B45.35104103699145%2C%205.663222564060285%2C%202.3367950063269602%5D%2C%20%5B48.51535671956591%2C%204.78493633213042%2C%201.116123404599679%5D%2C%20%5B49.06205738050499%2C%204.183885816507036%2C%200.8303351911724649%5D%2C%20%5B48.34793012962518%2C%205.680142768336255%2C%201.880937272389634%5D%2C%20%5B47.82915713001453%2C%205.362951959743948%2C%20-0.9532625566778181%5D%2C%20%5B48.34920065012291%2C%204.527682054965584%2C%201.61367668627337%5D%2C%20%5B50.222369860084775%2C%206.0240352004167015%2C%200.3873566291439595%5D%2C%20%5B48.95764358167544%2C%206.886363981709595%2C%201.3439057093885207%5D%2C%20%5B47.89933716068113%2C%205.207789020881196%2C%200.4328126065844371%5D%2C%20%5B48.89171357254314%2C%205.845833898347432%2C%200.9049806006266755%5D%2C%20%5B47.74295571020638%2C%203.7384796626372214%2C%202.006550903299912%5D%2C%20%5B46.75454549272848%2C%205.128276927818428%2C%20-0.3771973001411961%5D%2C%20%5B46.89681211542073%2C%204.411979281158031%2C%202.0610384802048225%5D%2C%20%5B48.21279728819299%2C%204.760784888965516%2C%200.2857248314940296%5D%2C%20%5B49.20916234658986%2C%205.672421650917924%2C%201.3699966390566995%5D%2C%20%5B47.26281561417502%2C%203.772142315858101%2C%200.7874878228676051%5D%2C%20%5B48.811608299090004%2C%204.959106560460964%2C%200.23688003286128223%5D%2C%20%5B47.9872289576423%2C%204.348834915048741%2C%201.8264888407460202%5D%2C%20%5B49.61071910335539%2C%203.9650431431683066%2C%200.647477884006453%5D%2C%20%5B47.98888199179533%2C%205.208808689750903%2C%20-0.6214349368646883%5D%2C%20%5B49.36367076424468%2C%205.258206831757225%2C%20-0.12989770158770142%5D%2C%20%5B48.161782457657225%2C%205.0149573551783835%2C%201.1667877238685926%5D%2C%20%5B47.172869483766306%2C%205.258734108364342%2C%20-0.38428024491662605%5D%2C%20%5B47.2526205930294%2C%202.863254766296705%2C%200.5396320091417288%5D%2C%20%5B47.410958650605885%2C%205.273012581645941%2C%201.479117881530404%5D%2C%20%5B47.362472886805%2C%204.3361304576610245%2C%201.7340153210944873%5D%2C%20%5B47.394932209098265%2C%204.49295241360839%2C%202.192046039099184%5D%2C%20%5B48.21741965492405%2C%204.602101496670344%2C%200.9547589743510995%5D%2C%20%5B48.8999108365431%2C%206.060620880018446%2C%201.5480699012912746%5D%2C%20%5B47.996890492478286%2C%205.742176864529649%2C%200.49003023102017607%5D%2C%20%5B49.01774352398809%2C%204.54481042648943%2C%200.8706639039648506%5D%2C%20%5B48.184152666209556%2C%205.764667709134673%2C%200.8942317391715298%5D%2C%20%5B47.74350143984494%2C%204.8640900736600114%2C%201.883445206777771%5D%2C%20%5B47.25179043377707%2C%205.472913071706038%2C%200.48357315099882403%5D%2C%20%5B47.546793383063616%2C%204.962282022530161%2C%202.2324018147323317%5D%2C%20%5B48.39833653273483%2C%203.942470155681402%2C%201.017763089084266%5D%2C%20%5B48.15352327289774%2C%205.278415436457615%2C%200.6544001567131689%5D%2C%20%5B46.56786749253585%2C%206.006768882758247%2C%201.344293933537502%5D%2C%20%5B47.45252552252772%2C%206.740794631127242%2C%202.262320197299492%5D%2C%20%5B48.0507204048909%2C%205.568033521726539%2C%201.9982656041524822%5D%2C%20%5B48.66489661516384%2C%203.474870304129128%2C%201.624588496171579%5D%2C%20%5B49.017963526972046%2C%204.193200552581264%2C%202.505723976177098%5D%2C%20%5B48.17517872296081%2C%205.957638120944483%2C%20-0.26129030101595974%5D%2C%20%5B47.264714616873974%2C%205.303064639674812%2C%201.4797116974960778%5D%2C%20%5B47.40100939395073%2C%204.853388023355227%2C%201.0024119960930604%5D%2C%20%5B47.24667271750053%2C%203.866156897781593%2C%200.7553905906521782%5D%2C%20%5B46.76124255132685%2C%204.709260568988714%2C%201.2642723542422698%5D%2C%20%5B46.02994184303521%2C%206.525593756911822%2C%202.497387888624745%5D%2C%20%5B48.667176927277964%2C%205.119835760128507%2C%200.8397057754818573%5D%2C%20%5B47.46415185745812%2C%204.457647318277298%2C%201.4676638293329283%5D%2C%20%5B46.50370179541702%2C%202.713498592105674%2C%201.1779870275700406%5D%5D%2C%0A%20%20%20%20%20%20%20%20%20%20%20%20%20%20%20%20%7B%22blur%22%3A%2015%2C%20%22maxZoom%22%3A%2018%2C%20%22minOpacity%22%3A%200.5%2C%20%22radius%22%3A%2025%7D%0A%20%20%20%20%20%20%20%20%20%20%20%20%29.addTo%28map_aa8e8d829cdf48d191a92049aa56126c%29%3B%0A%20%20%20%20%20%20%20%20%0A%3C/script%3E onload=\"this.contentDocument.open();this.contentDocument.write(    decodeURIComponent(this.getAttribute('data-html')));this.contentDocument.close();\" allowfullscreen webkitallowfullscreen mozallowfullscreen></iframe></div></div>"
      ],
      "text/plain": [
       "<folium.folium.Map at 0x12208aa00>"
      ]
     },
     "execution_count": 80,
     "metadata": {},
     "output_type": "execute_result"
    }
   ],
   "source": [
    "m=folium.Map([48,5],tiles='stamentoner',zoom_start=6)\n",
    "HeatMap(data).add_to(m)\n",
    "m"
   ]
  },
  {
   "cell_type": "markdown",
   "id": "f7a53797",
   "metadata": {},
   "source": [
    "官方文档：https://python-visualization.github.io/folium/index.html \\\n",
    "其他使用：https://www.zhihu.com/question/33783546"
   ]
  },
  {
   "cell_type": "markdown",
   "id": "755afb0c",
   "metadata": {},
   "source": [
    "### 4. Kepler.gl\n",
    "基础教程：https://sspai.com/post/55655\n",
    "官网：https://kepler.gl"
   ]
  },
  {
   "cell_type": "markdown",
   "id": "ace3e37c",
   "metadata": {},
   "source": [
    "Kepler.gl与folium类似，也是是一个图形化的数据可视化工具，基于Uber的大数据可视化开源项目deck.gl创建的demo app。目前支持3种数据格式：CSV、JSON、GeoJSON。\n",
    "\n",
    "Kepler.gl官网提供了可视化图形案例，分别是Arc（弧）、Line（线）、Hexagon（六边形）、Point（点）、Heatmap（等高线图）、GeoJSON、Buildings（建筑）。\n",
    "\n",
    "下面用本赛题的数据进行简单的数据处理和基本的kepler.gl的使用"
   ]
  },
  {
   "cell_type": "code",
   "execution_count": 3,
   "id": "e1e37741",
   "metadata": {},
   "outputs": [],
   "source": [
    "import pandas as pd \n",
    "import geopandas as gpd\n",
    "from pyproj import Proj \n",
    "from keplergl import KeplerGl\n",
    "from tqdm import tqdm\n",
    "import os \n",
    "import matplotlib.pyplot as plt\n",
    "import shapely\n",
    "import numpy as np\n",
    "from datetime import datetime  \n",
    "import warnings\n",
    "warnings.filterwarnings('ignore')\n",
    "plt.rcParams['font.sans-serif'] = ['SimSun']    # 指定默认字体为新宋体。\n",
    "plt.rcParams['axes.unicode_minus'] = False      # 解决保存图像时 负号'-' 显示为方块和报错的问题。"
   ]
  },
  {
   "cell_type": "code",
   "execution_count": 84,
   "id": "f4c76f05",
   "metadata": {},
   "outputs": [],
   "source": [
    "#获取文件夹中的数据\n",
    "def get_data(file_path,model):\n",
    "    assert model in ['train', 'test'], '{} Not Support this type of file'.format(model)\n",
    "    paths = os.listdir(file_path)\n",
    "    print(len(paths))\n",
    "    tmp = []\n",
    "    for t in  tqdm(range(len(paths))):\n",
    "        p = paths[t]\n",
    "        with open('{}/{}'.format(file_path, p), encoding='utf-8') as f:\n",
    "            next(f)\n",
    "            for line in f.readlines():\n",
    "                tmp.append(line.strip().split(','))\n",
    "    tmp_df = pd.DataFrame(tmp)\n",
    "    if model == 'train':\n",
    "        tmp_df.columns = ['ID', 'lat', 'lon', 'speed', 'direction', 'time', 'type']\n",
    "    else:\n",
    "        tmp_df['type'] = 'unknown'\n",
    "        tmp_df.columns = ['ID', 'lat', 'lon', 'speed', 'direction', 'time', 'type']\n",
    "    tmp_df['lat'] = tmp_df['lat'].astype(float)\n",
    "    tmp_df['lon'] = tmp_df['lon'].astype(float)\n",
    "    tmp_df['speed'] = tmp_df['speed'].astype(float)\n",
    "    tmp_df['direction'] = tmp_df['direction'].astype(float)\n",
    "    tmp_df = tmp_df.convert_dtypes()\n",
    "#     tmp_df['direction'] = tmp_df['direction'].astype(int)#如果该行代码运行失败，请尝试更新pandas的版本\n",
    "    return tmp_df"
   ]
  },
  {
   "cell_type": "code",
   "execution_count": 85,
   "id": "c53051ae",
   "metadata": {},
   "outputs": [],
   "source": [
    "# 平面坐标转经纬度，供初赛数据使用\n",
    "# 选择标准为NAD83 / California zone 6 (ftUS) (EPSG:2230)，查询链接：https://mygeodata.cloud/cs2cs/\n",
    "def transform_xy2lonlat(df):\n",
    "    '''\n",
    "    format ='+proj=lcc +lat_0=0 +lon_0=117 +k=1+z_0=500000 +y_0=0 +ellps=VGS84 +units=m +no_defs' \n",
    "    +proj= name:这是经常必选的一个地图投影转换函数。Name是一个投影名称\n",
    "    +lon 0=c:设置中央经线。通常和+lat_0,一起决定投影的地理起点\n",
    "    +lat O=d:设置纬度起点。通常和+lon_0,一起决定投影的地理起点\n",
    "    +k:比例系数(比例因子)\n",
    "    +x_0=x0:设置假东，例如在gauss - kruge中，东偏500000米。主要用来保持坐标的非负\n",
    "    +y_0=y0:设置假北，主要用来保持坐标非负\n",
    "    +ellps=acronym:选择一个proj里的椭球体。Acronym为椭球体名\n",
    "    +units=name:设置地图坐标的单位\n",
    "    +no defs:不要使用proj库中的缺省定义文件\n",
    "    '''\n",
    "    format_ = '+proj=lcc +lat_1=33.88333333333333 +lat_2=32.78333333333333 +lat_0=32.16666666666666 +lon_0=-116.25 +x_0=2000000.0001016 +y_0=500000.0001016001 +datum=NAD83 +units=us-ft +no_defs '\n",
    "    x = df['lat'].values\n",
    "    y = df['lon'].values\n",
    "    p=Proj(format_)\n",
    "    df['lon'], df['lat'] = p(y, x, inverse=True)\n",
    "    return df  "
   ]
  },
  {
   "cell_type": "code",
   "execution_count": 86,
   "id": "79579e6f",
   "metadata": {},
   "outputs": [],
   "source": [
    "#修改数据的时间格式\n",
    "def reformat_strtime(time_str=None, START_YEAR=\"2019\"):\n",
    "    \"\"\"Reformat the strtime with the form '08 14' to 'START_YEAR-08-14' \"\"\"\n",
    "    time_str_split = time_str.split(\" \")\n",
    "    time_str_reformat = START_YEAR + \"-\" + time_str_split[0][:2] + \"-\" + time_str_split[0][2:4]\n",
    "    time_str_reformat = time_str_reformat + \" \" + time_str_split[1]\n",
    "#     time_reformat=datetime.strptime(time_str_reformat,'%Y-%m-%d %H:%M:%S')\n",
    "    return time_str_reformat\n",
    "#计算两个点的距离\n",
    "def haversine_np(lon1, lat1, lon2, lat2):\n",
    "    lon1, lat1, lon2, lat2 = map(np.radians, [lon1, lat1, lon2, lat2])\n",
    "    dlon = lon2 - lon1\n",
    "    dlat = lat2 - lat1\n",
    "\n",
    "    a = np.sin(dlat/2.0)**2 + np.cos(lat1) * np.cos(lat2) * np.sin(dlon/2.0)**2\n",
    "\n",
    "    c = 2 * np.arcsin(np.sqrt(a))\n",
    "    km = 6367 * c\n",
    "    return km * 1000"
   ]
  },
  {
   "cell_type": "code",
   "execution_count": 87,
   "id": "d3518363",
   "metadata": {},
   "outputs": [],
   "source": [
    "def compute_traj_diff_time_distance(traj=None):\n",
    "    \"\"\"Compute the sampling time and the coordinate distance.\"\"\"\n",
    "    # 计算时间的差值\n",
    "    time_diff_array = (traj[\"time\"].iloc[1:].reset_index(drop=True) - traj[\n",
    "        \"time\"].iloc[:-1].reset_index(drop=True)).dt.total_seconds() / 60\n",
    "\n",
    "    # 计算坐标之间的距离\n",
    "    dist_diff_array = haversine_np(traj[\"lon\"].values[1:],  # lon_0\n",
    "                                   traj[\"lat\"].values[1:],  # lat_0\n",
    "                                   traj[\"lon\"].values[:-1], # lon_1\n",
    "                                   traj[\"lat\"].values[:-1]  # lat_1\n",
    "                                   )\n",
    "\n",
    "    # 填充第一个值\n",
    "    time_diff_array = [time_diff_array.mean()] + time_diff_array.tolist()\n",
    "    dist_diff_array = [dist_diff_array.mean()] + dist_diff_array.tolist()\n",
    "    traj.loc[list(traj.index),'time_array'] = time_diff_array\n",
    "    traj.loc[list(traj.index),'dist_array'] = dist_diff_array\n",
    "    return traj "
   ]
  },
  {
   "cell_type": "code",
   "execution_count": 88,
   "id": "75a87144",
   "metadata": {},
   "outputs": [],
   "source": [
    "#对轨迹进行异常点的剔除\n",
    "def assign_traj_anomaly_points_nan(traj=None, speed_maximum=23,\n",
    "                                   time_interval_maximum=200,\n",
    "                                   coord_speed_maximum=700):\n",
    "    \"\"\"Assign the anomaly points in traj to np.nan.\"\"\"\n",
    "    def thigma_data(data_y,n): \n",
    "        data_x =[i for i in range(len(data_y))]\n",
    "        ymean = np.mean(data_y)\n",
    "        ystd = np.std(data_y)\n",
    "        threshold1 = ymean - n * ystd\n",
    "        threshold2 = ymean + n * ystd\n",
    "        judge=[]\n",
    "        for data in data_y:\n",
    "            if (data < threshold1)|(data> threshold2):\n",
    "                judge.append(True)\n",
    "            else:\n",
    "                judge.append(False)\n",
    "        return judge\n",
    "    # Step 1: The speed anomaly repairing\n",
    "    is_speed_anomaly = (traj[\"speed\"] > speed_maximum) | (traj[\"speed\"] < 0)\n",
    "    traj[\"speed\"][is_speed_anomaly] = np.nan\n",
    "\n",
    "    # Step 2: 根据距离和时间计算速度\n",
    "    is_anomaly = np.array([False] * len(traj))\n",
    "    traj[\"coord_speed\"] = traj[\"dist_array\"] / traj[\"time_array\"]\n",
    "    \n",
    "    # Condition 1: 根据3-sigma算法剔除coord speed以及较大时间间隔的点\n",
    "    is_anomaly_tmp = pd.Series(thigma_data(traj[\"time_array\"],3)) | pd.Series(thigma_data(traj[\"coord_speed\"],3))\n",
    "    is_anomaly = is_anomaly | is_anomaly_tmp\n",
    "    is_anomaly.index=traj.index\n",
    "    # Condition 2: 轨迹点的3-sigma异常处理\n",
    "    traj = traj[~is_anomaly].reset_index(drop=True)\n",
    "    is_anomaly = np.array([False] * len(traj))\n",
    "\n",
    "    if len(traj) != 0:\n",
    "        lon_std, lon_mean = traj[\"lon\"].std(), traj[\"lon\"].mean()\n",
    "        lat_std, lat_mean = traj[\"lat\"].std(), traj[\"lat\"].mean()\n",
    "        lon_low, lon_high = lon_mean - 3 * lon_std, lon_mean + 3 * lon_std\n",
    "        lat_low, lat_high = lat_mean - 3 * lat_std, lat_mean + 3 * lat_std\n",
    "\n",
    "        is_anomaly = is_anomaly | (traj[\"lon\"] > lon_high) | ((traj[\"lon\"] < lon_low))\n",
    "        is_anomaly = is_anomaly | (traj[\"lat\"] > lat_high) | ((traj[\"lat\"] < lat_low))\n",
    "        traj = traj[~is_anomaly].reset_index(drop=True)\n",
    "    return traj, [len(is_speed_anomaly) - len(traj)]"
   ]
  },
  {
   "cell_type": "code",
   "execution_count": 95,
   "id": "b5c3ea76",
   "metadata": {},
   "outputs": [
    {
     "name": "stderr",
     "output_type": "stream",
     "text": [
      "  1%|          | 43/7000 [00:00<00:16, 423.64it/s]"
     ]
    },
    {
     "name": "stdout",
     "output_type": "stream",
     "text": [
      "7000\n"
     ]
    },
    {
     "name": "stderr",
     "output_type": "stream",
     "text": [
      "100%|██████████| 7000/7000 [00:21<00:00, 322.45it/s]\n"
     ]
    }
   ],
   "source": [
    "df=get_data('data/hy_round1_train_20200102/','train')"
   ]
  },
  {
   "cell_type": "code",
   "execution_count": 96,
   "id": "32dfa6fc",
   "metadata": {},
   "outputs": [],
   "source": [
    "df=transform_xy2lonlat(df)\n",
    "df['time']=df['time'].apply(reformat_strtime)\n",
    "df['time']=df['time'].apply(lambda x: datetime.strptime(x,'%Y-%m-%d %H:%M:%S'))"
   ]
  },
  {
   "cell_type": "code",
   "execution_count": 98,
   "id": "ca124e6c",
   "metadata": {},
   "outputs": [],
   "source": [
    "#这一个cell的代码不用运行，DF.csv该数据已经放到了github上面给出的附件数据里面\n",
    "\n",
    "#对轨迹进行异常点剔除，对nan值进行线性插值\n",
    "ID_list=list(pd.DataFrame(df['ID'].value_counts()).index)\n",
    "DF_NEW=[]\n",
    "Anomaly_count=[]\n",
    "for ID in tqdm(ID_list):\n",
    "    df_id=compute_traj_diff_time_distance(df[df['ID']==ID])\n",
    "    df_new,count=assign_traj_anomaly_points_nan(df_id)\n",
    "    df_new[\"speed\"] = df_new[\"speed\"].interpolate(method=\"linear\", axis=0)\n",
    "    df_new = df_new.fillna(method=\"bfill\")\n",
    "    df_new = df_new.fillna(method=\"ffill\")\n",
    "    df_new[\"speed\"] = df_new[\"speed\"].clip(0, 23)\n",
    "    Anomaly_count.append(count)#统计每个id异常点的数量有多少\n",
    "    DF_NEW.append(df_new)\n",
    "DF=pd.concat(DF_NEW)"
   ]
  },
  {
   "cell_type": "code",
   "execution_count": 15,
   "id": "e3039b20",
   "metadata": {},
   "outputs": [],
   "source": [
    "#读取github的数据\n",
    "DF=pd.read_csv('data/DF.csv')"
   ]
  },
  {
   "cell_type": "code",
   "execution_count": 101,
   "id": "d0bfb1ed",
   "metadata": {},
   "outputs": [
    {
     "data": {
      "text/html": [
       "<div>\n",
       "<style scoped>\n",
       "    .dataframe tbody tr th:only-of-type {\n",
       "        vertical-align: middle;\n",
       "    }\n",
       "\n",
       "    .dataframe tbody tr th {\n",
       "        vertical-align: top;\n",
       "    }\n",
       "\n",
       "    .dataframe thead th {\n",
       "        text-align: right;\n",
       "    }\n",
       "</style>\n",
       "<table border=\"1\" class=\"dataframe\">\n",
       "  <thead>\n",
       "    <tr style=\"text-align: right;\">\n",
       "      <th></th>\n",
       "      <th>Unnamed: 0</th>\n",
       "      <th>ID</th>\n",
       "      <th>lat</th>\n",
       "      <th>lon</th>\n",
       "      <th>speed</th>\n",
       "      <th>direction</th>\n",
       "      <th>time</th>\n",
       "      <th>type</th>\n",
       "      <th>time_array</th>\n",
       "      <th>dist_array</th>\n",
       "      <th>coord_speed</th>\n",
       "    </tr>\n",
       "  </thead>\n",
       "  <tbody>\n",
       "    <tr>\n",
       "      <th>0</th>\n",
       "      <td>0</td>\n",
       "      <td>4924</td>\n",
       "      <td>44.878993</td>\n",
       "      <td>-121.048498</td>\n",
       "      <td>0.38</td>\n",
       "      <td>103</td>\n",
       "      <td>2019-11-13 23:59:30</td>\n",
       "      <td>围网</td>\n",
       "      <td>-1.088487</td>\n",
       "      <td>19.788529</td>\n",
       "      <td>-18.179848</td>\n",
       "    </tr>\n",
       "    <tr>\n",
       "      <th>1</th>\n",
       "      <td>1</td>\n",
       "      <td>4924</td>\n",
       "      <td>44.878993</td>\n",
       "      <td>-121.048498</td>\n",
       "      <td>0.05</td>\n",
       "      <td>0</td>\n",
       "      <td>2019-11-13 23:58:27</td>\n",
       "      <td>围网</td>\n",
       "      <td>-1.050000</td>\n",
       "      <td>0.000000</td>\n",
       "      <td>-0.000000</td>\n",
       "    </tr>\n",
       "    <tr>\n",
       "      <th>2</th>\n",
       "      <td>2</td>\n",
       "      <td>4924</td>\n",
       "      <td>44.878993</td>\n",
       "      <td>-121.048498</td>\n",
       "      <td>0.00</td>\n",
       "      <td>0</td>\n",
       "      <td>2019-11-13 23:57:24</td>\n",
       "      <td>围网</td>\n",
       "      <td>-1.050000</td>\n",
       "      <td>0.000000</td>\n",
       "      <td>-0.000000</td>\n",
       "    </tr>\n",
       "    <tr>\n",
       "      <th>3</th>\n",
       "      <td>3</td>\n",
       "      <td>4924</td>\n",
       "      <td>44.878993</td>\n",
       "      <td>-121.048498</td>\n",
       "      <td>0.05</td>\n",
       "      <td>0</td>\n",
       "      <td>2019-11-13 23:56:20</td>\n",
       "      <td>围网</td>\n",
       "      <td>-1.066667</td>\n",
       "      <td>0.000000</td>\n",
       "      <td>-0.000000</td>\n",
       "    </tr>\n",
       "    <tr>\n",
       "      <th>4</th>\n",
       "      <td>4</td>\n",
       "      <td>4924</td>\n",
       "      <td>44.878993</td>\n",
       "      <td>-121.048498</td>\n",
       "      <td>0.05</td>\n",
       "      <td>0</td>\n",
       "      <td>2019-11-13 23:55:17</td>\n",
       "      <td>围网</td>\n",
       "      <td>-1.050000</td>\n",
       "      <td>0.000000</td>\n",
       "      <td>-0.000000</td>\n",
       "    </tr>\n",
       "  </tbody>\n",
       "</table>\n",
       "</div>"
      ],
      "text/plain": [
       "   Unnamed: 0    ID        lat         lon  speed  direction  \\\n",
       "0           0  4924  44.878993 -121.048498   0.38        103   \n",
       "1           1  4924  44.878993 -121.048498   0.05          0   \n",
       "2           2  4924  44.878993 -121.048498   0.00          0   \n",
       "3           3  4924  44.878993 -121.048498   0.05          0   \n",
       "4           4  4924  44.878993 -121.048498   0.05          0   \n",
       "\n",
       "                  time type  time_array  dist_array  coord_speed  \n",
       "0  2019-11-13 23:59:30   围网   -1.088487   19.788529   -18.179848  \n",
       "1  2019-11-13 23:58:27   围网   -1.050000    0.000000    -0.000000  \n",
       "2  2019-11-13 23:57:24   围网   -1.050000    0.000000    -0.000000  \n",
       "3  2019-11-13 23:56:20   围网   -1.066667    0.000000    -0.000000  \n",
       "4  2019-11-13 23:55:17   围网   -1.050000    0.000000    -0.000000  "
      ]
     },
     "execution_count": 101,
     "metadata": {},
     "output_type": "execute_result"
    }
   ],
   "source": [
    "DF.head()"
   ]
  },
  {
   "cell_type": "code",
   "execution_count": 100,
   "id": "a2222d3c",
   "metadata": {},
   "outputs": [
    {
     "name": "stderr",
     "output_type": "stream",
     "text": [
      "findfont: Font family ['sans-serif'] not found. Falling back to DejaVu Sans.\n",
      "findfont: Generic family 'sans-serif' not found because none of the following families were found: SimSun\n"
     ]
    },
    {
     "name": "stdout",
     "output_type": "stream",
     "text": [
      "化简前数据长度：377\n",
      "化简后数据长度：156\n"
     ]
    },
    {
     "data": {
      "image/png": "[encoded data removed]",
      "text/plain": [
       "<Figure size 432x288 with 1 Axes>"
      ]
     },
     "metadata": {
      "needs_background": "light"
     },
     "output_type": "display_data"
    }
   ],
   "source": [
    "#douglas-peucker案例，由该案例可以看出针对相同ID的轨迹，可以先用geopandas将其进行简化和数据压缩\n",
    "line= shapely.geometry.LineString(np.array(df[df['ID']=='11'][['lon','lat']]))\n",
    "ax=gpd.GeoSeries([line]).plot(color='red')\n",
    "ax = gpd.GeoSeries([line]).simplify(tolerance=0.000000001).plot(color='blue', \n",
    "                                                        ax=ax,\n",
    "                                                        linestyle='--')\n",
    "LegendElement = [plt.Line2D([], [], color='red', label='简化前'),\n",
    "                 plt.Line2D([], [], color='blue', linestyle='--', label='简化后')]\n",
    "\n",
    "# 将制作好的图例映射对象列表导入legend()中，并配置相关参数\n",
    "ax.legend(handles = LegendElement, \n",
    "          loc='upper left', \n",
    "          fontsize=10)\n",
    "# ax.set_ylim((-2.1, 1))\n",
    "# ax.axis('off')\n",
    "print('化简前数据长度：'+str(len(np.array(gpd.GeoSeries([line])[0]))))\n",
    "print('化简后数据长度：'+str(len(np.array(gpd.GeoSeries([line]).simplify(tolerance=0.000000001)[0]))))"
   ]
  },
  {
   "cell_type": "code",
   "execution_count": 102,
   "id": "710ad707",
   "metadata": {},
   "outputs": [],
   "source": [
    "#定义数据简化函数。即通过shapely库将经纬度转换成LineString格式\n",
    "#然后放入GeoSeries数据结构中并进行简化，最后再将所有数据放入GeoDataFrame中\n",
    "def simplify_dataframe(df):\n",
    "    line_list=[]\n",
    "    for i in tqdm(dict(list(df.groupby('ID')))):\n",
    "        line_dict={}\n",
    "        lat_lon=dict(list(df.groupby('ID')))[i][['lon','lat']]\n",
    "        line=shapely.geometry.LineString(np.array(lat_lon))\n",
    "        line_dict['ID']=dict(list(df.groupby('ID')))[i].iloc[0]['ID']\n",
    "        line_dict['type']=dict(list(df.groupby('ID')))[i].iloc[0]['type']  \n",
    "        line_dict['geometry']=gpd.GeoSeries([line]).simplify(tolerance=0.000000001)[0]\n",
    "        line_list.append(line_dict)\n",
    "    return gpd.GeoDataFrame(line_list)"
   ]
  },
  {
   "cell_type": "code",
   "execution_count": 9,
   "id": "7046c810",
   "metadata": {},
   "outputs": [],
   "source": [
    "# df_gpd_change=simplify_dataframe(DF)\n",
    "df_gpd_change=pd.read_pickle('data/df_gpd_change.pkl')"
   ]
  },
  {
   "cell_type": "code",
   "execution_count": 10,
   "id": "027fd4bb",
   "metadata": {},
   "outputs": [
    {
     "data": {
      "text/html": [
       "<div>\n",
       "<style scoped>\n",
       "    .dataframe tbody tr th:only-of-type {\n",
       "        vertical-align: middle;\n",
       "    }\n",
       "\n",
       "    .dataframe tbody tr th {\n",
       "        vertical-align: top;\n",
       "    }\n",
       "\n",
       "    .dataframe thead th {\n",
       "        text-align: right;\n",
       "    }\n",
       "</style>\n",
       "<table border=\"1\" class=\"dataframe\">\n",
       "  <thead>\n",
       "    <tr style=\"text-align: right;\">\n",
       "      <th></th>\n",
       "      <th>ID</th>\n",
       "      <th>type</th>\n",
       "      <th>geometry</th>\n",
       "    </tr>\n",
       "  </thead>\n",
       "  <tbody>\n",
       "    <tr>\n",
       "      <th>0</th>\n",
       "      <td>0</td>\n",
       "      <td>拖网</td>\n",
       "      <td>LINESTRING (-121.61334 44.29281, -121.61375 44...</td>\n",
       "    </tr>\n",
       "    <tr>\n",
       "      <th>1</th>\n",
       "      <td>1</td>\n",
       "      <td>拖网</td>\n",
       "      <td>LINESTRING (-121.86311 44.16961, -121.86305 44...</td>\n",
       "    </tr>\n",
       "    <tr>\n",
       "      <th>2</th>\n",
       "      <td>10</td>\n",
       "      <td>拖网</td>\n",
       "      <td>LINESTRING (-121.23034 44.85162, -121.22490 44...</td>\n",
       "    </tr>\n",
       "    <tr>\n",
       "      <th>3</th>\n",
       "      <td>100</td>\n",
       "      <td>拖网</td>\n",
       "      <td>LINESTRING (-121.67854 44.24807, -121.67773 44...</td>\n",
       "    </tr>\n",
       "    <tr>\n",
       "      <th>4</th>\n",
       "      <td>1000</td>\n",
       "      <td>围网</td>\n",
       "      <td>LINESTRING (-120.41239 46.27749, -120.41324 46...</td>\n",
       "    </tr>\n",
       "    <tr>\n",
       "      <th>...</th>\n",
       "      <td>...</td>\n",
       "      <td>...</td>\n",
       "      <td>...</td>\n",
       "    </tr>\n",
       "    <tr>\n",
       "      <th>6995</th>\n",
       "      <td>995</td>\n",
       "      <td>拖网</td>\n",
       "      <td>LINESTRING (-121.70525 44.30965, -121.70708 44...</td>\n",
       "    </tr>\n",
       "    <tr>\n",
       "      <th>6996</th>\n",
       "      <td>996</td>\n",
       "      <td>拖网</td>\n",
       "      <td>LINESTRING (-121.38977 44.47390, -121.39015 44...</td>\n",
       "    </tr>\n",
       "    <tr>\n",
       "      <th>6997</th>\n",
       "      <td>997</td>\n",
       "      <td>刺网</td>\n",
       "      <td>LINESTRING (-121.64726 44.22412, -121.64726 44...</td>\n",
       "    </tr>\n",
       "    <tr>\n",
       "      <th>6998</th>\n",
       "      <td>998</td>\n",
       "      <td>拖网</td>\n",
       "      <td>LINESTRING (-121.67938 44.24830, -121.67938 44...</td>\n",
       "    </tr>\n",
       "    <tr>\n",
       "      <th>6999</th>\n",
       "      <td>999</td>\n",
       "      <td>拖网</td>\n",
       "      <td>LINESTRING (-121.49760 44.35082, -121.49760 44...</td>\n",
       "    </tr>\n",
       "  </tbody>\n",
       "</table>\n",
       "<p>7000 rows × 3 columns</p>\n",
       "</div>"
      ],
      "text/plain": [
       "        ID type                                           geometry\n",
       "0        0   拖网  LINESTRING (-121.61334 44.29281, -121.61375 44...\n",
       "1        1   拖网  LINESTRING (-121.86311 44.16961, -121.86305 44...\n",
       "2       10   拖网  LINESTRING (-121.23034 44.85162, -121.22490 44...\n",
       "3      100   拖网  LINESTRING (-121.67854 44.24807, -121.67773 44...\n",
       "4     1000   围网  LINESTRING (-120.41239 46.27749, -120.41324 46...\n",
       "...    ...  ...                                                ...\n",
       "6995   995   拖网  LINESTRING (-121.70525 44.30965, -121.70708 44...\n",
       "6996   996   拖网  LINESTRING (-121.38977 44.47390, -121.39015 44...\n",
       "6997   997   刺网  LINESTRING (-121.64726 44.22412, -121.64726 44...\n",
       "6998   998   拖网  LINESTRING (-121.67938 44.24830, -121.67938 44...\n",
       "6999   999   拖网  LINESTRING (-121.49760 44.35082, -121.49760 44...\n",
       "\n",
       "[7000 rows x 3 columns]"
      ]
     },
     "execution_count": 10,
     "metadata": {},
     "output_type": "execute_result"
    }
   ],
   "source": [
    "df_gpd_change"
   ]
  },
  {
   "cell_type": "code",
   "execution_count": 11,
   "id": "098ae89e",
   "metadata": {},
   "outputs": [
    {
     "name": "stdout",
     "output_type": "stream",
     "text": [
      "User Guide: https://docs.kepler.gl/docs/keplergl-jupyter\n"
     ]
    },
    {
     "data": {
      "application/vnd.jupyter.widget-view+json": {
       "model_id": "ffd4912838aa44deb0db358215db6ce6",
       "version_major": 2,
       "version_minor": 0
      },
      "text/plain": [
       "KeplerGl(data={'data': {'index': [0, 1, 2, 3, 4, 5, 6, 7, 8, 9, 10, 11, 12, 13, 14, 15, 16, 17, 18, 19, 20, 21…"
      ]
     },
     "metadata": {},
     "output_type": "display_data"
    }
   ],
   "source": [
    "map1=KeplerGl(height=800)#zoom_start与这个height类似，表示地图的缩放程度\n",
    "map1.add_data(data=df_gpd_change,name='data')\n",
    "#当运行该代码后，下面会有一个kepler.gl使用说明的链接，可以根据该链接进行学习参考\n",
    "map1"
   ]
  },
  {
   "cell_type": "markdown",
   "id": "b69a4f92",
   "metadata": {},
   "source": [
    "### 5. GeoHash"
   ]
  },
  {
   "cell_type": "markdown",
   "id": "31885292",
   "metadata": {},
   "source": [
    "参考文献：https://blog.csdn.net/zhufenghao/article/details/85568340\n",
    "    \n",
    "在对于经纬度进行数据分析和特征提取时常用到的是GeoHash编码，该编码方式可以将地理经纬度坐标编码为由字母和数字所构成的短字符串，它具有如下特性：\n",
    "1. 层级空间数据结构，将地理位置用矩形网格划分，同一网格内地理编码相同\\\n",
    "2. 只要编码长度足够长，可以表示任意精度的地理位置坐标\\\n",
    "3. 编码前缀匹配的越长，地理位置越邻近。\n",
    "\n",
    "那么GeoHash算法是怎么对经纬度坐标进行编码的呢？总的来说，它采用的是二分法不断缩小经度和纬度的区间来进行二进制编码，最后将经纬度分别产生的编码奇偶位交叉合并，再用字母数字表示。举例来说，对于一个坐标116.29513,40.04920的经度执行算法：\n",
    "1. 将地球经度区间[-180,180]二分为[-180,0]和[0,180]，116.29513在右区间，记1；\n",
    "2. 将[0,180]二分为[0,90]和[90,180]，116.29513在右区间，记1；\n",
    "3. 将[90,180]二分为[90,135]和[135,180]，116.29513在左区间，记0；\n",
    "4. 递归上述过程（左区间记0，右区间记1）直到所需要的精度，得到一串二进制编码11010 01010 11001。\n",
    "\n",
    "同理将地球纬度区间[-90,90]根据纬度40.04920进行递归二分得到二进制编码10111 00011 11010，接着生成新的二进制数，它的偶数位放经度，奇数位放纬度，得到11100 11101 00100 01101 11110 00110，最后使用32个数字和字母（字母去掉a、i、l、o这4个）进行32进制编码，即先将二进制数每5位转化为十进制28 29 4 13 30 6，然后对应着编码表进行映射得到wy4ey6\n",
    "\n",
    "对这样的GeoHash编码大小排序后，是按照Z形曲线来填充空间的，后来又衍生出多种填充曲线且具有多种特性，由于没有Z形曲线简单通用，这里就不赘述了。\n",
    "\n",
    "另外还有一些其他曲线可以填充空间，比如著名的希尔伯特曲线，感兴趣的可以看bilibili这个视频，了解一下，还是蛮有趣的~\n",
    "\n",
    "https://www.bilibili.com/video/BV1Sf4y147J9?from=search&seid=12367619856156226126"
   ]
  },
  {
   "cell_type": "code",
   "execution_count": 13,
   "id": "b645b8e5",
   "metadata": {},
   "outputs": [],
   "source": [
    "# reference: https://github.com/vinsci/geohash\n",
    "def geohash_encode(latitude, longitude, precision=12):\n",
    "    \"\"\"\n",
    "    Encode a position given in float arguments latitude, longitude to\n",
    "    a geohash which will have the character count precision.\n",
    "    \"\"\"\n",
    "    lat_interval, lon_interval = (-90.0, 90.0), (-180.0, 180.0)\n",
    "    base32 = '0123456789bcdefghjkmnpqrstuvwxyz'\n",
    "    geohash = []\n",
    "    bits = [16, 8, 4, 2, 1]\n",
    "    bit = 0\n",
    "    ch = 0\n",
    "    even = True\n",
    "    while len(geohash) < precision:\n",
    "        if even:\n",
    "            mid = (lon_interval[0] + lon_interval[1]) / 2\n",
    "            if longitude > mid:\n",
    "                ch |= bits[bit]\n",
    "                lon_interval = (mid, lon_interval[1])\n",
    "            else:\n",
    "                lon_interval = (lon_interval[0], mid)\n",
    "        else:\n",
    "            mid = (lat_interval[0] + lat_interval[1]) / 2\n",
    "            if latitude > mid:\n",
    "                ch |= bits[bit]\n",
    "                lat_interval = (mid, lat_interval[1])\n",
    "            else:\n",
    "                lat_interval = (lat_interval[0], mid)\n",
    "        even = not even\n",
    "        if bit < 4:\n",
    "            bit += 1\n",
    "        else:\n",
    "            geohash += base32[ch]\n",
    "            bit = 0\n",
    "            ch = 0\n",
    "    return ''.join(geohash)"
   ]
  },
  {
   "cell_type": "code",
   "execution_count": 16,
   "id": "9b5ca956",
   "metadata": {},
   "outputs": [
    {
     "data": {
      "text/plain": [
       "1873158    9rc76bv\n",
       "1873159    9rc76cq\n",
       "1873160    9rc76fw\n",
       "1873161    9rc76gn\n",
       "1873162    9rc76gy\n",
       "            ...   \n",
       "1873517    9rc7xnv\n",
       "1873518    9rc7xnv\n",
       "1873519    9rc7xnv\n",
       "1873520    9rc7xnv\n",
       "1873521    9rc7xnv\n",
       "Length: 364, dtype: object"
      ]
     },
     "execution_count": 16,
     "metadata": {},
     "output_type": "execute_result"
    }
   ],
   "source": [
    "#调用Geohash函数\n",
    "DF[DF['ID']==1].apply(lambda x: geohash_encode(x['lat'], x['lon'], 7), axis=1)"
   ]
  },
  {
   "cell_type": "markdown",
   "id": "7a8bfa58",
   "metadata": {},
   "source": [
    "GeoHash的主要价值在于将二维的经纬度坐标信息编码到了一维的字符串中，在做地理位置索引时只需要匹配字符串即可，便于缓存、信息压缩。在使用大数据工具（例如Spark）进行数据挖掘聚类时，GeoHash显得更加便捷和高效。\n",
    "\n",
    "但是使用GeoHash还有一些注意事项：\n",
    "1. 由于GeoHash使用Z形曲线来顺序填充空间的，而Z形曲线在拐角处会有突变，这表现在有些相邻的网格的编码前缀比其他网格相差较多，因此利用前缀匹配可以找到一部分邻近的区域，但同时也会漏掉一些。\n",
    "2. 一个网格内部所有点会共用一个GeoHash值，在网格的边缘点会匹配到可能较远但是GeoHash值相同的点，而本来距离较近的点却没有匹配到。这种问题可以这样解决：适当增加GeoHash编码长度，并使用周围的8个近邻编码来参与，因为往往只使用一个GeoHash编码可能会有严重风险！"
   ]
  },
  {
   "cell_type": "markdown",
   "id": "90e3123c",
   "metadata": {},
   "source": [
    "## 作业"
   ]
  },
  {
   "cell_type": "code",
   "execution_count": 65,
   "id": "34f101b6",
   "metadata": {},
   "outputs": [],
   "source": [
    "df_gpd_change=pd.read_pickle('data/df_gpd_change.pkl')\n",
    "type_list = df_gpd_change['type'].unique()"
   ]
  },
  {
   "cell_type": "code",
   "execution_count": 66,
   "id": "33c85ccc",
   "metadata": {},
   "outputs": [
    {
     "data": {
      "text/plain": [
       "array(['拖网', '围网', '刺网'], dtype=object)"
      ]
     },
     "execution_count": 66,
     "metadata": {},
     "output_type": "execute_result"
    }
   ],
   "source": [
    "type_list"
   ]
  },
  {
   "cell_type": "code",
   "execution_count": 67,
   "id": "c832e2b0",
   "metadata": {},
   "outputs": [
    {
     "data": {
      "text/html": [
       "<div>\n",
       "<style scoped>\n",
       "    .dataframe tbody tr th:only-of-type {\n",
       "        vertical-align: middle;\n",
       "    }\n",
       "\n",
       "    .dataframe tbody tr th {\n",
       "        vertical-align: top;\n",
       "    }\n",
       "\n",
       "    .dataframe thead th {\n",
       "        text-align: right;\n",
       "    }\n",
       "</style>\n",
       "<table border=\"1\" class=\"dataframe\">\n",
       "  <thead>\n",
       "    <tr style=\"text-align: right;\">\n",
       "      <th></th>\n",
       "      <th>ID</th>\n",
       "      <th>type</th>\n",
       "      <th>geometry</th>\n",
       "    </tr>\n",
       "  </thead>\n",
       "  <tbody>\n",
       "    <tr>\n",
       "      <th>0</th>\n",
       "      <td>0</td>\n",
       "      <td>拖网</td>\n",
       "      <td>LINESTRING (-121.6133375263957532 44.292814486...</td>\n",
       "    </tr>\n",
       "    <tr>\n",
       "      <th>1</th>\n",
       "      <td>1</td>\n",
       "      <td>拖网</td>\n",
       "      <td>LINESTRING (-121.8631069457240130 44.169605115...</td>\n",
       "    </tr>\n",
       "    <tr>\n",
       "      <th>2</th>\n",
       "      <td>10</td>\n",
       "      <td>拖网</td>\n",
       "      <td>LINESTRING (-121.2303367139654142 44.851623525...</td>\n",
       "    </tr>\n",
       "    <tr>\n",
       "      <th>3</th>\n",
       "      <td>100</td>\n",
       "      <td>拖网</td>\n",
       "      <td>LINESTRING (-121.6785404039833054 44.248067467...</td>\n",
       "    </tr>\n",
       "    <tr>\n",
       "      <th>5</th>\n",
       "      <td>1001</td>\n",
       "      <td>拖网</td>\n",
       "      <td>LINESTRING (-121.2231395166457730 44.651227442...</td>\n",
       "    </tr>\n",
       "    <tr>\n",
       "      <th>...</th>\n",
       "      <td>...</td>\n",
       "      <td>...</td>\n",
       "      <td>...</td>\n",
       "    </tr>\n",
       "    <tr>\n",
       "      <th>6994</th>\n",
       "      <td>994</td>\n",
       "      <td>拖网</td>\n",
       "      <td>LINESTRING (-121.2219512301973765 44.651819111...</td>\n",
       "    </tr>\n",
       "    <tr>\n",
       "      <th>6995</th>\n",
       "      <td>995</td>\n",
       "      <td>拖网</td>\n",
       "      <td>LINESTRING (-121.7052516151172767 44.309650763...</td>\n",
       "    </tr>\n",
       "    <tr>\n",
       "      <th>6996</th>\n",
       "      <td>996</td>\n",
       "      <td>拖网</td>\n",
       "      <td>LINESTRING (-121.3897692382948463 44.473897973...</td>\n",
       "    </tr>\n",
       "    <tr>\n",
       "      <th>6998</th>\n",
       "      <td>998</td>\n",
       "      <td>拖网</td>\n",
       "      <td>LINESTRING (-121.6793843871078735 44.248299224...</td>\n",
       "    </tr>\n",
       "    <tr>\n",
       "      <th>6999</th>\n",
       "      <td>999</td>\n",
       "      <td>拖网</td>\n",
       "      <td>LINESTRING (-121.4975992398176885 44.350816932...</td>\n",
       "    </tr>\n",
       "  </tbody>\n",
       "</table>\n",
       "<p>4361 rows × 3 columns</p>\n",
       "</div>"
      ],
      "text/plain": [
       "        ID type                                           geometry\n",
       "0        0   拖网  LINESTRING (-121.6133375263957532 44.292814486...\n",
       "1        1   拖网  LINESTRING (-121.8631069457240130 44.169605115...\n",
       "2       10   拖网  LINESTRING (-121.2303367139654142 44.851623525...\n",
       "3      100   拖网  LINESTRING (-121.6785404039833054 44.248067467...\n",
       "5     1001   拖网  LINESTRING (-121.2231395166457730 44.651227442...\n",
       "...    ...  ...                                                ...\n",
       "6994   994   拖网  LINESTRING (-121.2219512301973765 44.651819111...\n",
       "6995   995   拖网  LINESTRING (-121.7052516151172767 44.309650763...\n",
       "6996   996   拖网  LINESTRING (-121.3897692382948463 44.473897973...\n",
       "6998   998   拖网  LINESTRING (-121.6793843871078735 44.248299224...\n",
       "6999   999   拖网  LINESTRING (-121.4975992398176885 44.350816932...\n",
       "\n",
       "[4361 rows x 3 columns]"
      ]
     },
     "execution_count": 67,
     "metadata": {},
     "output_type": "execute_result"
    }
   ],
   "source": [
    "type1"
   ]
  },
  {
   "cell_type": "code",
   "execution_count": 68,
   "id": "8c689a78",
   "metadata": {},
   "outputs": [
    {
     "name": "stdout",
     "output_type": "stream",
     "text": [
      "User Guide: https://docs.kepler.gl/docs/keplergl-jupyter\n"
     ]
    }
   ],
   "source": [
    "type1 = df_gpd_change[df_gpd_change['type'] == '拖网']\n",
    "map1=KeplerGl(height=800)#zoom_start与这个height类似，表示地图的缩放程度\n",
    "map1.add_data(data=type1, name='data')"
   ]
  },
  {
   "cell_type": "code",
   "execution_count": 69,
   "id": "ad13108a",
   "metadata": {
    "scrolled": true
   },
   "outputs": [
    {
     "data": {
      "application/vnd.jupyter.widget-view+json": {
       "model_id": "b4727a9dcd204429ab0ef4400e9d5dbd",
       "version_major": 2,
       "version_minor": 0
      },
      "text/plain": [
       "KeplerGl(data={'data': {'index': [0, 1, 2, 3, 5, 8, 9, 10, 12, 13, 14, 17, 19, 20, 21, 22, 23, 25, 27, 28, 29,…"
      ]
     },
     "metadata": {},
     "output_type": "display_data"
    }
   ],
   "source": [
    "map1"
   ]
  },
  {
   "cell_type": "code",
   "execution_count": 70,
   "id": "2bf3ec36",
   "metadata": {},
   "outputs": [
    {
     "name": "stdout",
     "output_type": "stream",
     "text": [
      "User Guide: https://docs.kepler.gl/docs/keplergl-jupyter\n"
     ]
    },
    {
     "data": {
      "application/vnd.jupyter.widget-view+json": {
       "model_id": "471defe8b9c1474f9c011d81deeb4ecf",
       "version_major": 2,
       "version_minor": 0
      },
      "text/plain": [
       "KeplerGl(data={'data': {'index': [4, 6, 7, 16, 18, 26, 32, 41, 45, 46, 47, 52, 56, 58, 64, 66, 69, 75, 78, 96,…"
      ]
     },
     "metadata": {},
     "output_type": "display_data"
    }
   ],
   "source": [
    "type2 = df_gpd_change[df_gpd_change['type'] == '围网']\n",
    "map2=KeplerGl(height=800)#zoom_start与这个height类似，表示地图的缩放程度\n",
    "map2.add_data(data=type2, name='data')\n",
    "map2"
   ]
  },
  {
   "cell_type": "code",
   "execution_count": 71,
   "id": "ca2fb55d",
   "metadata": {},
   "outputs": [
    {
     "name": "stdout",
     "output_type": "stream",
     "text": [
      "User Guide: https://docs.kepler.gl/docs/keplergl-jupyter\n"
     ]
    },
    {
     "data": {
      "application/vnd.jupyter.widget-view+json": {
       "model_id": "2ec859cbc111470ea089af1ef30b3ba1",
       "version_major": 2,
       "version_minor": 0
      },
      "text/plain": [
       "KeplerGl(data={'data': {'index': [], 'columns': ['ID', 'type', 'geometry'], 'data': []}}, height=800)"
      ]
     },
     "metadata": {},
     "output_type": "display_data"
    }
   ],
   "source": [
    "type3 = df_gpd_change[df_gpd_change['type'] == '捕网']\n",
    "map3=KeplerGl(height=800)#zoom_start与这个height类似，表示地图的缩放程度\n",
    "map3.add_data(data=type3, name='data')\n",
    "map3"
   ]
  },
  {
   "cell_type": "code",
   "execution_count": null,
   "id": "13c4c124",
   "metadata": {
    "scrolled": true
   },
   "outputs": [],
   "source": [
    "DF['ID'] = DF['ID'].astype(str)\n",
    "ID_list = DF.ID.unique()\n",
    "DF_dp = pd.DataFrame()\n",
    "for idx in ID_list:\n",
    "    coord_list = np.array(DF[DF.ID == idx][['lat', 'lon']])\n",
    "    line=shapely.geometry.LineString(coord_list)\n",
    "    line_dp = gpd.GeoSeries([line]).simplify(tolerance=0.000000001)[0]\n",
    "    tmp_dp =  pd.DataFrame()\n",
    "    tmp_dp['coords'] = list(np.array(line_dp))\n",
    "    tmp_dp['lat'] = tmp_dp['coords'].apply(lambda x: x[0])\n",
    "    tmp_dp['lon'] = tmp_dp['coords'].apply(lambda x: x[1])\n",
    "    tmp_dp['ID'] = idx\n",
    "    DF_dp = DF_dp.append(tmp_dp)"
   ]
  },
  {
   "cell_type": "code",
   "execution_count": null,
   "id": "69531374",
   "metadata": {},
   "outputs": [],
   "source": [
    "DF_dp['lat_geohash'] = DF_dp.apply(lambda x: geohash_encode(x.lat, x.lon), axis=1)"
   ]
  },
  {
   "cell_type": "code",
   "execution_count": null,
   "id": "8b9c41d1",
   "metadata": {},
   "outputs": [],
   "source": [
    "DF_dp"
   ]
  },
  {
   "cell_type": "code",
   "execution_count": null,
   "id": "8fe628a2",
   "metadata": {},
   "outputs": [],
   "source": []
  }
 ],
 "metadata": {
  "kernelspec": {
   "display_name": "Python 3",
   "language": "python",
   "name": "python3"
  },
  "language_info": {
   "codemirror_mode": {
    "name": "ipython",
    "version": 3
   },
   "file_extension": ".py",
   "mimetype": "text/x-python",
   "name": "python",
   "nbconvert_exporter": "python",
   "pygments_lexer": "ipython3",
   "version": "3.8.8"
  }
 },
 "nbformat": 4,
 "nbformat_minor": 5
}
